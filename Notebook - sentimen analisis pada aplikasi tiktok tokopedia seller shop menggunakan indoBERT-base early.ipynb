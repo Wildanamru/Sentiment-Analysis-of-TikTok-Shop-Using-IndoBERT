{
 "cells": [
  {
   "cell_type": "code",
   "execution_count": null,
   "id": "85b2479d-949c-4e54-8916-9686cca1cf44",
   "metadata": {},
   "outputs": [],
   "source": [
    "pip install seaborn"
   ]
  },
  {
   "cell_type": "code",
   "execution_count": 1,
   "id": "02bb5853-a64f-4b43-99f7-102ecabc7dd3",
   "metadata": {},
   "outputs": [],
   "source": [
    "import pandas as pd\n",
    "from transformers import BertTokenizer, BertForSequenceClassification\n",
    "from torch.utils.data import Dataset, DataLoader\n",
    "import torch\n",
    "from torch.optim import AdamW\n",
    "from torch.nn import CrossEntropyLoss\n",
    "from sklearn.model_selection import StratifiedKFold\n",
    "from sklearn.model_selection import train_test_split\n",
    "from sklearn.metrics import classification_report, accuracy_score, confusion_matrix, ConfusionMatrixDisplay\n",
    "import matplotlib.pyplot as plt\n",
    "from tqdm import tqdm\n",
    "import re\n",
    "import numpy as np\n",
    "\n",
    "import warnings\n",
    "warnings.filterwarnings(\"ignore\")"
   ]
  },
  {
   "cell_type": "code",
   "execution_count": 2,
   "id": "d75fbee9-0269-4d53-8bf5-2fe5f2bd7b80",
   "metadata": {},
   "outputs": [
    {
     "data": {
      "text/plain": [
       "True"
      ]
     },
     "execution_count": 2,
     "metadata": {},
     "output_type": "execute_result"
    }
   ],
   "source": [
    "import torch \n",
    "\n",
    "torch.cuda.is_available()"
   ]
  },
  {
   "cell_type": "code",
   "execution_count": 3,
   "id": "e3c6c849-de7d-4c4b-9fb3-e7892012e1e2",
   "metadata": {},
   "outputs": [
    {
     "data": {
      "text/html": [
       "<div>\n",
       "<style scoped>\n",
       "    .dataframe tbody tr th:only-of-type {\n",
       "        vertical-align: middle;\n",
       "    }\n",
       "\n",
       "    .dataframe tbody tr th {\n",
       "        vertical-align: top;\n",
       "    }\n",
       "\n",
       "    .dataframe thead th {\n",
       "        text-align: right;\n",
       "    }\n",
       "</style>\n",
       "<table border=\"1\" class=\"dataframe\">\n",
       "  <thead>\n",
       "    <tr style=\"text-align: right;\">\n",
       "      <th></th>\n",
       "      <th>content</th>\n",
       "      <th>sentiment</th>\n",
       "    </tr>\n",
       "  </thead>\n",
       "  <tbody>\n",
       "    <tr>\n",
       "      <th>0</th>\n",
       "      <td>tolong keuangan transfer rekening berbeda reke...</td>\n",
       "      <td>negative</td>\n",
       "    </tr>\n",
       "    <tr>\n",
       "      <th>1</th>\n",
       "      <td>sumpah ya aplikasi seller buruk tuh duitnya la...</td>\n",
       "      <td>negative</td>\n",
       "    </tr>\n",
       "    <tr>\n",
       "      <th>2</th>\n",
       "      <td>susah ribet</td>\n",
       "      <td>negative</td>\n",
       "    </tr>\n",
       "    <tr>\n",
       "      <th>3</th>\n",
       "      <td>capai bikin dekripsi tolak kacau</td>\n",
       "      <td>negative</td>\n",
       "    </tr>\n",
       "    <tr>\n",
       "      <th>4</th>\n",
       "      <td>pelanggaran upload barang</td>\n",
       "      <td>negative</td>\n",
       "    </tr>\n",
       "  </tbody>\n",
       "</table>\n",
       "</div>"
      ],
      "text/plain": [
       "                                             content sentiment\n",
       "0  tolong keuangan transfer rekening berbeda reke...  negative\n",
       "1  sumpah ya aplikasi seller buruk tuh duitnya la...  negative\n",
       "2                                        susah ribet  negative\n",
       "3                   capai bikin dekripsi tolak kacau  negative\n",
       "4                          pelanggaran upload barang  negative"
      ]
     },
     "execution_count": 3,
     "metadata": {},
     "output_type": "execute_result"
    }
   ],
   "source": [
    "df = pd.read_csv('tiktokpre2.csv')\n",
    "df.head()"
   ]
  },
  {
   "cell_type": "code",
   "execution_count": 4,
   "id": "506705ac-3faf-45e2-8741-ea072a18ff60",
   "metadata": {},
   "outputs": [
    {
     "name": "stdout",
     "output_type": "stream",
     "text": [
      "<class 'pandas.core.frame.DataFrame'>\n",
      "RangeIndex: 3145 entries, 0 to 3144\n",
      "Data columns (total 2 columns):\n",
      " #   Column     Non-Null Count  Dtype \n",
      "---  ------     --------------  ----- \n",
      " 0   content    3145 non-null   object\n",
      " 1   sentiment  3145 non-null   object\n",
      "dtypes: object(2)\n",
      "memory usage: 49.3+ KB\n"
     ]
    }
   ],
   "source": [
    "df.info()"
   ]
  },
  {
   "cell_type": "code",
   "execution_count": 5,
   "id": "b67e8f14-10c5-4177-8447-b9680720e1d9",
   "metadata": {},
   "outputs": [],
   "source": [
    "# Mengganti nama kolom\n",
    "df = df.rename(columns={'content': 'review'})"
   ]
  },
  {
   "cell_type": "code",
   "execution_count": 6,
   "id": "1d8bb992-f6e1-4b3b-99d5-ce92f5944a41",
   "metadata": {},
   "outputs": [
    {
     "data": {
      "text/html": [
       "<div>\n",
       "<style scoped>\n",
       "    .dataframe tbody tr th:only-of-type {\n",
       "        vertical-align: middle;\n",
       "    }\n",
       "\n",
       "    .dataframe tbody tr th {\n",
       "        vertical-align: top;\n",
       "    }\n",
       "\n",
       "    .dataframe thead th {\n",
       "        text-align: right;\n",
       "    }\n",
       "</style>\n",
       "<table border=\"1\" class=\"dataframe\">\n",
       "  <thead>\n",
       "    <tr style=\"text-align: right;\">\n",
       "      <th></th>\n",
       "      <th>review</th>\n",
       "      <th>sentiment</th>\n",
       "    </tr>\n",
       "  </thead>\n",
       "  <tbody>\n",
       "    <tr>\n",
       "      <th>0</th>\n",
       "      <td>tolong keuangan transfer rekening berbeda reke...</td>\n",
       "      <td>negative</td>\n",
       "    </tr>\n",
       "    <tr>\n",
       "      <th>1</th>\n",
       "      <td>sumpah ya aplikasi seller buruk tuh duitnya la...</td>\n",
       "      <td>negative</td>\n",
       "    </tr>\n",
       "    <tr>\n",
       "      <th>2</th>\n",
       "      <td>susah ribet</td>\n",
       "      <td>negative</td>\n",
       "    </tr>\n",
       "    <tr>\n",
       "      <th>3</th>\n",
       "      <td>capai bikin dekripsi tolak kacau</td>\n",
       "      <td>negative</td>\n",
       "    </tr>\n",
       "    <tr>\n",
       "      <th>4</th>\n",
       "      <td>pelanggaran upload barang</td>\n",
       "      <td>negative</td>\n",
       "    </tr>\n",
       "  </tbody>\n",
       "</table>\n",
       "</div>"
      ],
      "text/plain": [
       "                                              review sentiment\n",
       "0  tolong keuangan transfer rekening berbeda reke...  negative\n",
       "1  sumpah ya aplikasi seller buruk tuh duitnya la...  negative\n",
       "2                                        susah ribet  negative\n",
       "3                   capai bikin dekripsi tolak kacau  negative\n",
       "4                          pelanggaran upload barang  negative"
      ]
     },
     "execution_count": 6,
     "metadata": {},
     "output_type": "execute_result"
    }
   ],
   "source": [
    "df.head()"
   ]
  },
  {
   "cell_type": "code",
   "execution_count": 7,
   "id": "1a0844b4-3280-4b09-8cdf-4cd8a2e5e21a",
   "metadata": {},
   "outputs": [
    {
     "data": {
      "text/html": [
       "<div>\n",
       "<style scoped>\n",
       "    .dataframe tbody tr th:only-of-type {\n",
       "        vertical-align: middle;\n",
       "    }\n",
       "\n",
       "    .dataframe tbody tr th {\n",
       "        vertical-align: top;\n",
       "    }\n",
       "\n",
       "    .dataframe thead th {\n",
       "        text-align: right;\n",
       "    }\n",
       "</style>\n",
       "<table border=\"1\" class=\"dataframe\">\n",
       "  <thead>\n",
       "    <tr style=\"text-align: right;\">\n",
       "      <th></th>\n",
       "      <th>review</th>\n",
       "      <th>sentiment</th>\n",
       "    </tr>\n",
       "  </thead>\n",
       "  <tbody>\n",
       "    <tr>\n",
       "      <th>0</th>\n",
       "      <td>tolong keuangan transfer rekening berbeda reke...</td>\n",
       "      <td>0</td>\n",
       "    </tr>\n",
       "    <tr>\n",
       "      <th>1</th>\n",
       "      <td>sumpah ya aplikasi seller buruk tuh duitnya la...</td>\n",
       "      <td>0</td>\n",
       "    </tr>\n",
       "    <tr>\n",
       "      <th>2</th>\n",
       "      <td>susah ribet</td>\n",
       "      <td>0</td>\n",
       "    </tr>\n",
       "    <tr>\n",
       "      <th>3</th>\n",
       "      <td>capai bikin dekripsi tolak kacau</td>\n",
       "      <td>0</td>\n",
       "    </tr>\n",
       "    <tr>\n",
       "      <th>4</th>\n",
       "      <td>pelanggaran upload barang</td>\n",
       "      <td>0</td>\n",
       "    </tr>\n",
       "  </tbody>\n",
       "</table>\n",
       "</div>"
      ],
      "text/plain": [
       "                                              review  sentiment\n",
       "0  tolong keuangan transfer rekening berbeda reke...          0\n",
       "1  sumpah ya aplikasi seller buruk tuh duitnya la...          0\n",
       "2                                        susah ribet          0\n",
       "3                   capai bikin dekripsi tolak kacau          0\n",
       "4                          pelanggaran upload barang          0"
      ]
     },
     "execution_count": 7,
     "metadata": {},
     "output_type": "execute_result"
    }
   ],
   "source": [
    "# Label encoding dengan inplace=True\n",
    "df['sentiment'].replace({'positive': 1, 'negative': 0}, inplace=True)\n",
    "df.head()"
   ]
  },
  {
   "cell_type": "code",
   "execution_count": 8,
   "id": "ce34a434-d237-4cf4-8830-f010606fc312",
   "metadata": {},
   "outputs": [
    {
     "name": "stdout",
     "output_type": "stream",
     "text": [
      "sentiment\n",
      "0    1755\n",
      "1    1390\n",
      "Name: count, dtype: int64\n"
     ]
    }
   ],
   "source": [
    "frequency = df['sentiment'].value_counts()\n",
    "print(frequency)"
   ]
  },
  {
   "cell_type": "code",
   "execution_count": 9,
   "id": "471f9d6d-a1db-4f7f-8b68-b70927beef92",
   "metadata": {},
   "outputs": [],
   "source": [
    "train_val_df, test_df = train_test_split(df, test_size=0.2, random_state=42)\n",
    "train_df, val_df = train_test_split(train_val_df, test_size=0.2, random_state=42)"
   ]
  },
  {
   "cell_type": "code",
   "execution_count": 10,
   "id": "dc361cf9-b32f-47f8-97b8-e7a1073a112c",
   "metadata": {},
   "outputs": [
    {
     "name": "stdout",
     "output_type": "stream",
     "text": [
      "Jumlah data train: 2012\n",
      "Jumlah data val: 504\n",
      "Jumlah data test: 629\n"
     ]
    }
   ],
   "source": [
    "print(\"Jumlah data train:\", train_df.shape[0])\n",
    "print(\"Jumlah data val:\", val_df.shape[0])\n",
    "print(\"Jumlah data test:\", test_df.shape[0])"
   ]
  },
  {
   "cell_type": "code",
   "execution_count": 11,
   "id": "c2ef0df5-20a0-40b6-9c78-9461e12fbc5c",
   "metadata": {},
   "outputs": [],
   "source": [
    "#tokenizer = BertTokenizer.from_pretrained('bert-base-uncased')\n",
    "tokenizer = BertTokenizer.from_pretrained('indobenchmark/indobert-base-p2')"
   ]
  },
  {
   "cell_type": "code",
   "execution_count": 12,
   "id": "09b2fb01-be40-4c69-b28c-9870edcdf682",
   "metadata": {},
   "outputs": [],
   "source": [
    "class SentimentDataset(Dataset):\n",
    "    def __init__(self, reviews, targets, tokenizer, max_len):\n",
    "        self.reviews = reviews\n",
    "        self.targets = targets\n",
    "        self.tokenizer = tokenizer\n",
    "        self.max_len = max_len\n",
    "    \n",
    "    def __len__(self):\n",
    "        return len(self.reviews)\n",
    "    \n",
    "    def __getitem__(self, item):\n",
    "        review = str(self.reviews[item])\n",
    "        target = self.targets[item]\n",
    "\n",
    "        encoding = self.tokenizer.encode_plus(\n",
    "            review,\n",
    "            add_special_tokens=True,\n",
    "            max_length=self.max_len,\n",
    "            return_token_type_ids=False,\n",
    "            pad_to_max_length=True,\n",
    "            return_attention_mask=True,\n",
    "            return_tensors='pt',\n",
    "        )\n",
    "\n",
    "        return {\n",
    "            'input_ids': encoding['input_ids'].flatten(),\n",
    "            'attention_mask': encoding['attention_mask'].flatten(),\n",
    "            'targets': torch.tensor(target, dtype=torch.long)\n",
    "        }\n",
    "\n"
   ]
  },
  {
   "cell_type": "code",
   "execution_count": 13,
   "id": "268a6f0d-9ef7-4a22-a585-6fd9dee936d9",
   "metadata": {},
   "outputs": [],
   "source": [
    "# Prepare DataLoader for training data\n",
    "MAX_LEN = 128\n",
    "BATCH_SIZE = 16\n",
    "\n",
    "train_dataset = SentimentDataset(\n",
    "    reviews=train_df.review.to_numpy(),\n",
    "    targets=train_df.sentiment.to_numpy(),\n",
    "    tokenizer=tokenizer,\n",
    "    max_len=MAX_LEN\n",
    ")\n",
    "\n",
    "train_loader = DataLoader(train_dataset, batch_size=BATCH_SIZE, shuffle=True)\n",
    "\n",
    "# Prepare DataLoader for validation data\n",
    "val_dataset = SentimentDataset(\n",
    "    reviews=val_df.review.to_numpy(),\n",
    "    targets=val_df.sentiment.to_numpy(),\n",
    "    tokenizer=tokenizer,\n",
    "    max_len=MAX_LEN\n",
    ")\n",
    "\n",
    "val_loader = DataLoader(val_dataset, batch_size=BATCH_SIZE, shuffle=False)\n",
    "\n",
    "# Prepare DataLoader for test data\n",
    "test_dataset = SentimentDataset(\n",
    "    reviews=test_df.review.to_numpy(),\n",
    "    targets=test_df.sentiment.to_numpy(),\n",
    "    tokenizer=tokenizer,\n",
    "    max_len=MAX_LEN\n",
    ")\n",
    "\n",
    "test_loader = DataLoader(test_dataset, batch_size=BATCH_SIZE, shuffle=False)"
   ]
  },
  {
   "cell_type": "code",
   "execution_count": 14,
   "id": "482c8d8d-692e-430b-977f-e53b4351b471",
   "metadata": {},
   "outputs": [
    {
     "name": "stderr",
     "output_type": "stream",
     "text": [
      "Some weights of BertForSequenceClassification were not initialized from the model checkpoint at indobenchmark/indobert-base-p2 and are newly initialized: ['classifier.bias', 'classifier.weight']\n",
      "You should probably TRAIN this model on a down-stream task to be able to use it for predictions and inference.\n"
     ]
    }
   ],
   "source": [
    "# Define model\n",
    "model = BertForSequenceClassification.from_pretrained('indobenchmark/indobert-base-p2', num_labels=2)\n",
    "device = torch.device('cuda' if torch.cuda.is_available() else 'cpu')\n",
    "model = model.to(device)"
   ]
  },
  {
   "cell_type": "code",
   "execution_count": 15,
   "id": "a35067ba-8017-4353-ac86-cc4d79ba6257",
   "metadata": {},
   "outputs": [],
   "source": [
    "# Optimizer\n",
    "optimizer = AdamW(model.parameters(), lr=1e-7)"
   ]
  },
  {
   "cell_type": "code",
   "execution_count": 16,
   "id": "3a4d7591-b138-4af1-be71-778e774f642c",
   "metadata": {},
   "outputs": [
    {
     "name": "stderr",
     "output_type": "stream",
     "text": [
      "Training Epoch 1:   0%|                                                                        | 0/126 [00:00<?, ?it/s]Truncation was not explicitly activated but `max_length` is provided a specific value, please use `truncation=True` to explicitly truncate examples to max length. Defaulting to 'longest_first' truncation strategy. If you encode pairs of sequences (GLUE-style) with the tokenizer you can select this strategy more precisely by providing a specific strategy to `truncation`.\n",
      "Training Epoch 1: 100%|██████████████████████████████████████████████████████████████| 126/126 [01:37<00:00,  1.29it/s]\n",
      "Evaluating: 100%|██████████████████████████████████████████████████████████████████████| 32/32 [00:09<00:00,  3.44it/s]\n"
     ]
    },
    {
     "name": "stdout",
     "output_type": "stream",
     "text": [
      "Epoch 1 - Train Loss: 0.6606039849538652 - Validation Loss: 0.5883211195468903\n",
      "Epoch 1 - Train Accuracy: 0.6043737574552683 - Validation Accuracy: 0.7619047619047619\n"
     ]
    },
    {
     "name": "stderr",
     "output_type": "stream",
     "text": [
      "Training Epoch 2: 100%|██████████████████████████████████████████████████████████████| 126/126 [01:35<00:00,  1.32it/s]\n",
      "Evaluating: 100%|██████████████████████████████████████████████████████████████████████| 32/32 [00:09<00:00,  3.45it/s]\n"
     ]
    },
    {
     "name": "stdout",
     "output_type": "stream",
     "text": [
      "Epoch 2 - Train Loss: 0.5762837621427718 - Validation Loss: 0.5244349827989936\n",
      "Epoch 2 - Train Accuracy: 0.7584493041749503 - Validation Accuracy: 0.8055555555555556\n"
     ]
    },
    {
     "name": "stderr",
     "output_type": "stream",
     "text": [
      "Training Epoch 3: 100%|██████████████████████████████████████████████████████████████| 126/126 [01:35<00:00,  1.32it/s]\n",
      "Evaluating: 100%|██████████████████████████████████████████████████████████████████████| 32/32 [00:09<00:00,  3.44it/s]\n"
     ]
    },
    {
     "name": "stdout",
     "output_type": "stream",
     "text": [
      "Epoch 3 - Train Loss: 0.5206849251001601 - Validation Loss: 0.4758217530325055\n",
      "Epoch 3 - Train Accuracy: 0.8096421471172962 - Validation Accuracy: 0.8253968253968254\n"
     ]
    },
    {
     "name": "stderr",
     "output_type": "stream",
     "text": [
      "Training Epoch 4: 100%|██████████████████████████████████████████████████████████████| 126/126 [01:35<00:00,  1.32it/s]\n",
      "Evaluating: 100%|██████████████████████████████████████████████████████████████████████| 32/32 [00:09<00:00,  3.45it/s]\n"
     ]
    },
    {
     "name": "stdout",
     "output_type": "stream",
     "text": [
      "Epoch 4 - Train Loss: 0.47569619450304246 - Validation Loss: 0.4353382373228669\n",
      "Epoch 4 - Train Accuracy: 0.8315109343936382 - Validation Accuracy: 0.8472222222222222\n"
     ]
    },
    {
     "name": "stderr",
     "output_type": "stream",
     "text": [
      "Training Epoch 5: 100%|██████████████████████████████████████████████████████████████| 126/126 [01:35<00:00,  1.31it/s]\n",
      "Evaluating: 100%|██████████████████████████████████████████████████████████████████████| 32/32 [00:09<00:00,  3.45it/s]\n"
     ]
    },
    {
     "name": "stdout",
     "output_type": "stream",
     "text": [
      "Epoch 5 - Train Loss: 0.43609254984628587 - Validation Loss: 0.40093795908614993\n",
      "Epoch 5 - Train Accuracy: 0.8439363817097415 - Validation Accuracy: 0.8551587301587301\n"
     ]
    },
    {
     "name": "stderr",
     "output_type": "stream",
     "text": [
      "Training Epoch 6: 100%|██████████████████████████████████████████████████████████████| 126/126 [01:35<00:00,  1.32it/s]\n",
      "Evaluating: 100%|██████████████████████████████████████████████████████████████████████| 32/32 [00:09<00:00,  3.44it/s]\n"
     ]
    },
    {
     "name": "stdout",
     "output_type": "stream",
     "text": [
      "Epoch 6 - Train Loss: 0.40525721368335543 - Validation Loss: 0.37054146686568856\n",
      "Epoch 6 - Train Accuracy: 0.8503976143141153 - Validation Accuracy: 0.8690476190476191\n"
     ]
    },
    {
     "name": "stderr",
     "output_type": "stream",
     "text": [
      "Training Epoch 7: 100%|██████████████████████████████████████████████████████████████| 126/126 [01:35<00:00,  1.31it/s]\n",
      "Evaluating: 100%|██████████████████████████████████████████████████████████████████████| 32/32 [00:09<00:00,  3.44it/s]\n"
     ]
    },
    {
     "name": "stdout",
     "output_type": "stream",
     "text": [
      "Epoch 7 - Train Loss: 0.3804558977957756 - Validation Loss: 0.34350112872198224\n",
      "Epoch 7 - Train Accuracy: 0.8618290258449304 - Validation Accuracy: 0.873015873015873\n"
     ]
    },
    {
     "name": "stderr",
     "output_type": "stream",
     "text": [
      "Training Epoch 8: 100%|██████████████████████████████████████████████████████████████| 126/126 [01:35<00:00,  1.32it/s]\n",
      "Evaluating: 100%|██████████████████████████████████████████████████████████████████████| 32/32 [00:09<00:00,  3.45it/s]\n"
     ]
    },
    {
     "name": "stdout",
     "output_type": "stream",
     "text": [
      "Epoch 8 - Train Loss: 0.3550004534541614 - Validation Loss: 0.31956337625160813\n",
      "Epoch 8 - Train Accuracy: 0.8702783300198808 - Validation Accuracy: 0.8809523809523809\n"
     ]
    },
    {
     "name": "stderr",
     "output_type": "stream",
     "text": [
      "Training Epoch 9: 100%|██████████████████████████████████████████████████████████████| 126/126 [01:35<00:00,  1.31it/s]\n",
      "Evaluating: 100%|██████████████████████████████████████████████████████████████████████| 32/32 [00:09<00:00,  3.43it/s]\n"
     ]
    },
    {
     "name": "stdout",
     "output_type": "stream",
     "text": [
      "Epoch 9 - Train Loss: 0.3343406221459782 - Validation Loss: 0.296868899371475\n",
      "Epoch 9 - Train Accuracy: 0.8722664015904572 - Validation Accuracy: 0.8869047619047619\n"
     ]
    },
    {
     "name": "stderr",
     "output_type": "stream",
     "text": [
      "Training Epoch 10: 100%|█████████████████████████████████████████████████████████████| 126/126 [01:35<00:00,  1.32it/s]\n",
      "Evaluating: 100%|██████████████████████████████████████████████████████████████████████| 32/32 [00:09<00:00,  3.45it/s]\n"
     ]
    },
    {
     "name": "stdout",
     "output_type": "stream",
     "text": [
      "Epoch 10 - Train Loss: 0.3184122511791804 - Validation Loss: 0.27656223089434206\n",
      "Epoch 10 - Train Accuracy: 0.8752485089463221 - Validation Accuracy: 0.8988095238095238\n"
     ]
    },
    {
     "name": "stderr",
     "output_type": "stream",
     "text": [
      "Training Epoch 11: 100%|█████████████████████████████████████████████████████████████| 126/126 [01:35<00:00,  1.31it/s]\n",
      "Evaluating: 100%|██████████████████████████████████████████████████████████████████████| 32/32 [00:09<00:00,  3.45it/s]\n"
     ]
    },
    {
     "name": "stdout",
     "output_type": "stream",
     "text": [
      "Epoch 11 - Train Loss: 0.2959513224306561 - Validation Loss: 0.2586115023586899\n",
      "Epoch 11 - Train Accuracy: 0.8951292246520874 - Validation Accuracy: 0.9107142857142857\n"
     ]
    },
    {
     "name": "stderr",
     "output_type": "stream",
     "text": [
      "Training Epoch 12: 100%|█████████████████████████████████████████████████████████████| 126/126 [01:35<00:00,  1.31it/s]\n",
      "Evaluating: 100%|██████████████████████████████████████████████████████████████████████| 32/32 [00:09<00:00,  3.40it/s]\n"
     ]
    },
    {
     "name": "stdout",
     "output_type": "stream",
     "text": [
      "Epoch 12 - Train Loss: 0.2760658927616619 - Validation Loss: 0.2406555823981762\n",
      "Epoch 12 - Train Accuracy: 0.9000994035785288 - Validation Accuracy: 0.9146825396825397\n"
     ]
    },
    {
     "name": "stderr",
     "output_type": "stream",
     "text": [
      "Training Epoch 13: 100%|█████████████████████████████████████████████████████████████| 126/126 [01:35<00:00,  1.31it/s]\n",
      "Evaluating: 100%|██████████████████████████████████████████████████████████████████████| 32/32 [00:09<00:00,  3.44it/s]\n"
     ]
    },
    {
     "name": "stdout",
     "output_type": "stream",
     "text": [
      "Epoch 13 - Train Loss: 0.2611796177095837 - Validation Loss: 0.22555543575435877\n",
      "Epoch 13 - Train Accuracy: 0.9145129224652088 - Validation Accuracy: 0.9226190476190477\n"
     ]
    },
    {
     "name": "stderr",
     "output_type": "stream",
     "text": [
      "Training Epoch 14: 100%|█████████████████████████████████████████████████████████████| 126/126 [01:35<00:00,  1.32it/s]\n",
      "Evaluating: 100%|██████████████████████████████████████████████████████████████████████| 32/32 [00:09<00:00,  3.45it/s]\n"
     ]
    },
    {
     "name": "stdout",
     "output_type": "stream",
     "text": [
      "Epoch 14 - Train Loss: 0.24476439765994512 - Validation Loss: 0.21156678907573223\n",
      "Epoch 14 - Train Accuracy: 0.9239562624254473 - Validation Accuracy: 0.9325396825396826\n"
     ]
    },
    {
     "name": "stderr",
     "output_type": "stream",
     "text": [
      "Training Epoch 15: 100%|█████████████████████████████████████████████████████████████| 126/126 [01:35<00:00,  1.31it/s]\n",
      "Evaluating: 100%|██████████████████████████████████████████████████████████████████████| 32/32 [00:09<00:00,  3.45it/s]\n"
     ]
    },
    {
     "name": "stdout",
     "output_type": "stream",
     "text": [
      "Epoch 15 - Train Loss: 0.2356185775309328 - Validation Loss: 0.19918200245592743\n",
      "Epoch 15 - Train Accuracy: 0.9184890656063618 - Validation Accuracy: 0.9444444444444444\n"
     ]
    },
    {
     "name": "stderr",
     "output_type": "stream",
     "text": [
      "Training Epoch 16: 100%|█████████████████████████████████████████████████████████████| 126/126 [01:35<00:00,  1.32it/s]\n",
      "Evaluating: 100%|██████████████████████████████████████████████████████████████████████| 32/32 [00:09<00:00,  3.45it/s]\n"
     ]
    },
    {
     "name": "stdout",
     "output_type": "stream",
     "text": [
      "Epoch 16 - Train Loss: 0.22503540286469081 - Validation Loss: 0.1889247534563765\n",
      "Epoch 16 - Train Accuracy: 0.9269383697813122 - Validation Accuracy: 0.9503968253968254\n"
     ]
    },
    {
     "name": "stderr",
     "output_type": "stream",
     "text": [
      "Training Epoch 17: 100%|█████████████████████████████████████████████████████████████| 126/126 [01:35<00:00,  1.31it/s]\n",
      "Evaluating: 100%|██████████████████████████████████████████████████████████████████████| 32/32 [00:09<00:00,  3.44it/s]\n"
     ]
    },
    {
     "name": "stdout",
     "output_type": "stream",
     "text": [
      "Epoch 17 - Train Loss: 0.2154935412700214 - Validation Loss: 0.17964240699075162\n",
      "Epoch 17 - Train Accuracy: 0.9234592445328031 - Validation Accuracy: 0.9523809523809523\n"
     ]
    },
    {
     "name": "stderr",
     "output_type": "stream",
     "text": [
      "Training Epoch 18: 100%|█████████████████████████████████████████████████████████████| 126/126 [01:35<00:00,  1.32it/s]\n",
      "Evaluating: 100%|██████████████████████████████████████████████████████████████████████| 32/32 [00:09<00:00,  3.44it/s]\n"
     ]
    },
    {
     "name": "stdout",
     "output_type": "stream",
     "text": [
      "Epoch 18 - Train Loss: 0.20211730702292352 - Validation Loss: 0.1714116740040481\n",
      "Epoch 18 - Train Accuracy: 0.9348906560636183 - Validation Accuracy: 0.9543650793650794\n"
     ]
    },
    {
     "name": "stderr",
     "output_type": "stream",
     "text": [
      "Training Epoch 19: 100%|█████████████████████████████████████████████████████████████| 126/126 [01:35<00:00,  1.32it/s]\n",
      "Evaluating: 100%|██████████████████████████████████████████████████████████████████████| 32/32 [00:09<00:00,  3.45it/s]\n"
     ]
    },
    {
     "name": "stdout",
     "output_type": "stream",
     "text": [
      "Epoch 19 - Train Loss: 0.19567032971434176 - Validation Loss: 0.16471796750556678\n",
      "Epoch 19 - Train Accuracy: 0.9383697813121272 - Validation Accuracy: 0.9523809523809523\n"
     ]
    },
    {
     "name": "stderr",
     "output_type": "stream",
     "text": [
      "Training Epoch 20: 100%|█████████████████████████████████████████████████████████████| 126/126 [01:35<00:00,  1.32it/s]\n",
      "Evaluating: 100%|██████████████████████████████████████████████████████████████████████| 32/32 [00:09<00:00,  3.44it/s]\n"
     ]
    },
    {
     "name": "stdout",
     "output_type": "stream",
     "text": [
      "Epoch 20 - Train Loss: 0.18353430025042997 - Validation Loss: 0.1586641960311681\n",
      "Epoch 20 - Train Accuracy: 0.9393638170974155 - Validation Accuracy: 0.9523809523809523\n"
     ]
    },
    {
     "name": "stderr",
     "output_type": "stream",
     "text": [
      "Training Epoch 21: 100%|█████████████████████████████████████████████████████████████| 126/126 [01:35<00:00,  1.32it/s]\n",
      "Evaluating: 100%|██████████████████████████████████████████████████████████████████████| 32/32 [00:09<00:00,  3.44it/s]\n"
     ]
    },
    {
     "name": "stdout",
     "output_type": "stream",
     "text": [
      "Epoch 21 - Train Loss: 0.1802316658967544 - Validation Loss: 0.15318982966709882\n",
      "Epoch 21 - Train Accuracy: 0.9403578528827038 - Validation Accuracy: 0.9563492063492064\n"
     ]
    },
    {
     "name": "stderr",
     "output_type": "stream",
     "text": [
      "Training Epoch 22: 100%|█████████████████████████████████████████████████████████████| 126/126 [01:35<00:00,  1.32it/s]\n",
      "Evaluating: 100%|██████████████████████████████████████████████████████████████████████| 32/32 [00:09<00:00,  3.44it/s]\n"
     ]
    },
    {
     "name": "stdout",
     "output_type": "stream",
     "text": [
      "Epoch 22 - Train Loss: 0.17046293962214673 - Validation Loss: 0.14872570463921875\n",
      "Epoch 22 - Train Accuracy: 0.9438369781312127 - Validation Accuracy: 0.9583333333333334\n"
     ]
    },
    {
     "name": "stderr",
     "output_type": "stream",
     "text": [
      "Training Epoch 23: 100%|█████████████████████████████████████████████████████████████| 126/126 [01:35<00:00,  1.32it/s]\n",
      "Evaluating: 100%|██████████████████████████████████████████████████████████████████████| 32/32 [00:09<00:00,  3.44it/s]\n"
     ]
    },
    {
     "name": "stdout",
     "output_type": "stream",
     "text": [
      "Epoch 23 - Train Loss: 0.16559663080861645 - Validation Loss: 0.14472582255257294\n",
      "Epoch 23 - Train Accuracy: 0.9468190854870775 - Validation Accuracy: 0.9583333333333334\n"
     ]
    },
    {
     "name": "stderr",
     "output_type": "stream",
     "text": [
      "Training Epoch 24: 100%|█████████████████████████████████████████████████████████████| 126/126 [01:35<00:00,  1.32it/s]\n",
      "Evaluating: 100%|██████████████████████████████████████████████████████████████████████| 32/32 [00:09<00:00,  3.45it/s]\n"
     ]
    },
    {
     "name": "stdout",
     "output_type": "stream",
     "text": [
      "Epoch 24 - Train Loss: 0.16171958924285948 - Validation Loss: 0.14137649518670514\n",
      "Epoch 24 - Train Accuracy: 0.9502982107355865 - Validation Accuracy: 0.9583333333333334\n"
     ]
    },
    {
     "name": "stderr",
     "output_type": "stream",
     "text": [
      "Training Epoch 25: 100%|█████████████████████████████████████████████████████████████| 126/126 [01:35<00:00,  1.32it/s]\n",
      "Evaluating: 100%|██████████████████████████████████████████████████████████████████████| 32/32 [00:09<00:00,  3.45it/s]\n"
     ]
    },
    {
     "name": "stdout",
     "output_type": "stream",
     "text": [
      "Epoch 25 - Train Loss: 0.15500819795424975 - Validation Loss: 0.13863784936256707\n",
      "Epoch 25 - Train Accuracy: 0.9517892644135189 - Validation Accuracy: 0.9623015873015873\n"
     ]
    },
    {
     "name": "stderr",
     "output_type": "stream",
     "text": [
      "Training Epoch 26: 100%|█████████████████████████████████████████████████████████████| 126/126 [01:35<00:00,  1.32it/s]\n",
      "Evaluating: 100%|██████████████████████████████████████████████████████████████████████| 32/32 [00:09<00:00,  3.45it/s]\n"
     ]
    },
    {
     "name": "stdout",
     "output_type": "stream",
     "text": [
      "Epoch 26 - Train Loss: 0.15644605821442037 - Validation Loss: 0.13658085372298956\n",
      "Epoch 26 - Train Accuracy: 0.9502982107355865 - Validation Accuracy: 0.9623015873015873\n"
     ]
    },
    {
     "name": "stderr",
     "output_type": "stream",
     "text": [
      "Training Epoch 27: 100%|█████████████████████████████████████████████████████████████| 126/126 [01:35<00:00,  1.32it/s]\n",
      "Evaluating: 100%|██████████████████████████████████████████████████████████████████████| 32/32 [00:09<00:00,  3.44it/s]\n"
     ]
    },
    {
     "name": "stdout",
     "output_type": "stream",
     "text": [
      "Epoch 27 - Train Loss: 0.15115363674149626 - Validation Loss: 0.13454740244196728\n",
      "Epoch 27 - Train Accuracy: 0.9498011928429424 - Validation Accuracy: 0.9623015873015873\n"
     ]
    },
    {
     "name": "stderr",
     "output_type": "stream",
     "text": [
      "Training Epoch 28: 100%|█████████████████████████████████████████████████████████████| 126/126 [01:35<00:00,  1.32it/s]\n",
      "Evaluating: 100%|██████████████████████████████████████████████████████████████████████| 32/32 [00:09<00:00,  3.45it/s]\n"
     ]
    },
    {
     "name": "stdout",
     "output_type": "stream",
     "text": [
      "Epoch 28 - Train Loss: 0.1439904598075719 - Validation Loss: 0.13291760202264413\n",
      "Epoch 28 - Train Accuracy: 0.955765407554672 - Validation Accuracy: 0.9623015873015873\n"
     ]
    },
    {
     "name": "stderr",
     "output_type": "stream",
     "text": [
      "Training Epoch 29: 100%|█████████████████████████████████████████████████████████████| 126/126 [01:35<00:00,  1.32it/s]\n",
      "Evaluating: 100%|██████████████████████████████████████████████████████████████████████| 32/32 [00:09<00:00,  3.44it/s]\n"
     ]
    },
    {
     "name": "stdout",
     "output_type": "stream",
     "text": [
      "Epoch 29 - Train Loss: 0.1364893146480123 - Validation Loss: 0.13141741720028222\n",
      "Epoch 29 - Train Accuracy: 0.9572564612326043 - Validation Accuracy: 0.9642857142857143\n"
     ]
    },
    {
     "name": "stderr",
     "output_type": "stream",
     "text": [
      "Training Epoch 30: 100%|█████████████████████████████████████████████████████████████| 126/126 [01:35<00:00,  1.32it/s]\n",
      "Evaluating: 100%|██████████████████████████████████████████████████████████████████████| 32/32 [00:09<00:00,  3.45it/s]\n"
     ]
    },
    {
     "name": "stdout",
     "output_type": "stream",
     "text": [
      "Epoch 30 - Train Loss: 0.13788450234347865 - Validation Loss: 0.13013031985610723\n",
      "Epoch 30 - Train Accuracy: 0.9547713717693836 - Validation Accuracy: 0.9623015873015873\n"
     ]
    },
    {
     "name": "stderr",
     "output_type": "stream",
     "text": [
      "Training Epoch 31: 100%|█████████████████████████████████████████████████████████████| 126/126 [01:35<00:00,  1.32it/s]\n",
      "Evaluating: 100%|██████████████████████████████████████████████████████████████████████| 32/32 [00:09<00:00,  3.45it/s]\n"
     ]
    },
    {
     "name": "stdout",
     "output_type": "stream",
     "text": [
      "Epoch 31 - Train Loss: 0.13681501292047046 - Validation Loss: 0.12925054685911164\n",
      "Epoch 31 - Train Accuracy: 0.9542743538767395 - Validation Accuracy: 0.9623015873015873\n"
     ]
    },
    {
     "name": "stderr",
     "output_type": "stream",
     "text": [
      "Training Epoch 32: 100%|█████████████████████████████████████████████████████████████| 126/126 [01:35<00:00,  1.32it/s]\n",
      "Evaluating: 100%|██████████████████████████████████████████████████████████████████████| 32/32 [00:09<00:00,  3.45it/s]\n"
     ]
    },
    {
     "name": "stdout",
     "output_type": "stream",
     "text": [
      "Epoch 32 - Train Loss: 0.13253858060176885 - Validation Loss: 0.12840693310135975\n",
      "Epoch 32 - Train Accuracy: 0.9577534791252486 - Validation Accuracy: 0.9623015873015873\n"
     ]
    },
    {
     "name": "stderr",
     "output_type": "stream",
     "text": [
      "Training Epoch 33: 100%|█████████████████████████████████████████████████████████████| 126/126 [01:35<00:00,  1.32it/s]\n",
      "Evaluating: 100%|██████████████████████████████████████████████████████████████████████| 32/32 [00:09<00:00,  3.45it/s]\n"
     ]
    },
    {
     "name": "stdout",
     "output_type": "stream",
     "text": [
      "Epoch 33 - Train Loss: 0.13028293060109256 - Validation Loss: 0.12788720475509763\n",
      "Epoch 33 - Train Accuracy: 0.9582504970178927 - Validation Accuracy: 0.9583333333333334\n"
     ]
    },
    {
     "name": "stderr",
     "output_type": "stream",
     "text": [
      "Training Epoch 34: 100%|█████████████████████████████████████████████████████████████| 126/126 [01:35<00:00,  1.32it/s]\n",
      "Evaluating: 100%|██████████████████████████████████████████████████████████████████████| 32/32 [00:09<00:00,  3.45it/s]\n"
     ]
    },
    {
     "name": "stdout",
     "output_type": "stream",
     "text": [
      "Epoch 34 - Train Loss: 0.12854238942502036 - Validation Loss: 0.1272096173488535\n",
      "Epoch 34 - Train Accuracy: 0.959741550695825 - Validation Accuracy: 0.9583333333333334\n"
     ]
    },
    {
     "name": "stderr",
     "output_type": "stream",
     "text": [
      "Training Epoch 35: 100%|█████████████████████████████████████████████████████████████| 126/126 [01:35<00:00,  1.32it/s]\n",
      "Evaluating: 100%|██████████████████████████████████████████████████████████████████████| 32/32 [00:09<00:00,  3.45it/s]\n"
     ]
    },
    {
     "name": "stdout",
     "output_type": "stream",
     "text": [
      "Epoch 35 - Train Loss: 0.13133499395870973 - Validation Loss: 0.12691839251783676\n",
      "Epoch 35 - Train Accuracy: 0.9577534791252486 - Validation Accuracy: 0.9583333333333334\n"
     ]
    },
    {
     "name": "stderr",
     "output_type": "stream",
     "text": [
      "Training Epoch 36: 100%|█████████████████████████████████████████████████████████████| 126/126 [01:35<00:00,  1.32it/s]\n",
      "Evaluating: 100%|██████████████████████████████████████████████████████████████████████| 32/32 [00:09<00:00,  3.45it/s]\n"
     ]
    },
    {
     "name": "stdout",
     "output_type": "stream",
     "text": [
      "Epoch 36 - Train Loss: 0.12435175553851184 - Validation Loss: 0.12660668732132763\n",
      "Epoch 36 - Train Accuracy: 0.9617296222664016 - Validation Accuracy: 0.9583333333333334\n"
     ]
    },
    {
     "name": "stderr",
     "output_type": "stream",
     "text": [
      "Training Epoch 37: 100%|█████████████████████████████████████████████████████████████| 126/126 [01:35<00:00,  1.32it/s]\n",
      "Evaluating: 100%|██████████████████████████████████████████████████████████████████████| 32/32 [00:09<00:00,  3.45it/s]"
     ]
    },
    {
     "name": "stdout",
     "output_type": "stream",
     "text": [
      "Epoch 37 - Train Loss: 0.12501475538703657 - Validation Loss: 0.12653453747043386\n",
      "Epoch 37 - Train Accuracy: 0.9607355864811133 - Validation Accuracy: 0.9583333333333334\n"
     ]
    },
    {
     "name": "stderr",
     "output_type": "stream",
     "text": [
      "\n"
     ]
    }
   ],
   "source": [
    "# Parameters\n",
    "EPOCHS = 37\n",
    "loss_fn = CrossEntropyLoss().to(device)\n",
    "\n",
    "train_losses = []\n",
    "val_losses = []\n",
    "train_accuracies = []\n",
    "val_accuracies = []\n",
    "\n",
    "for epoch in range(EPOCHS):\n",
    "    model.train()\n",
    "    total_train_loss = 0\n",
    "    correct_train_predictions = 0\n",
    "    total_train_samples = 0\n",
    "    \n",
    "    for batch in tqdm(train_loader, desc=f\"Training Epoch {epoch + 1}\"):\n",
    "        optimizer.zero_grad()\n",
    "        input_ids = batch['input_ids'].to(device)\n",
    "        attention_mask = batch['attention_mask'].to(device)\n",
    "        targets = batch['targets'].to(device)\n",
    "\n",
    "        outputs = model(input_ids=input_ids, attention_mask=attention_mask, labels=targets)\n",
    "        loss = outputs.loss\n",
    "        loss.backward()\n",
    "        optimizer.step()\n",
    "\n",
    "        total_train_loss += loss.item()\n",
    "\n",
    "        predictions = outputs.logits.argmax(dim=-1)\n",
    "        correct_train_predictions += (predictions == targets).sum().item()\n",
    "        total_train_samples += targets.size(0)\n",
    "\n",
    "    avg_train_loss = total_train_loss / len(train_loader)\n",
    "    train_losses.append(avg_train_loss)\n",
    "    train_accuracy = correct_train_predictions / total_train_samples\n",
    "    train_accuracies.append(train_accuracy)\n",
    "\n",
    "    model.eval()\n",
    "    total_val_loss = 0\n",
    "    correct_val_predictions = 0\n",
    "    total_val_samples = 0\n",
    "    \n",
    "    for batch in tqdm(val_loader, desc=\"Evaluating\"):\n",
    "        input_ids = batch['input_ids'].to(device)\n",
    "        attention_mask = batch['attention_mask'].to(device)\n",
    "        targets = batch['targets'].to(device)\n",
    "\n",
    "        with torch.no_grad():\n",
    "            outputs = model(input_ids=input_ids, attention_mask=attention_mask, labels=targets)\n",
    "            loss = outputs.loss\n",
    "\n",
    "        total_val_loss += loss.item()\n",
    "\n",
    "        # Calculate accuracy\n",
    "        predictions = outputs.logits.argmax(dim=-1)\n",
    "        correct_val_predictions += (predictions == targets).sum().item()\n",
    "        total_val_samples += targets.size(0)\n",
    "\n",
    "    avg_val_loss = total_val_loss / len(val_loader)\n",
    "    val_losses.append(avg_val_loss)\n",
    "    val_accuracy = correct_val_predictions / total_val_samples\n",
    "    val_accuracies.append(val_accuracy)\n",
    "\n",
    "    print(f\"Epoch {epoch + 1} - Train Loss: {avg_train_loss} - Validation Loss: {avg_val_loss}\")\n",
    "    print(f\"Epoch {epoch + 1} - Train Accuracy: {train_accuracy} - Validation Accuracy: {val_accuracy}\")\n"
   ]
  },
  {
   "cell_type": "code",
   "execution_count": 17,
   "id": "3a6fc575-9f6c-423a-9f3f-d5b54bb77c47",
   "metadata": {},
   "outputs": [
    {
     "data": {
      "image/png": "[encoded data removed]",
      "text/plain": [
       "<Figure size 1000x500 with 1 Axes>"
      ]
     },
     "metadata": {},
     "output_type": "display_data"
    },
    {
     "data": {
      "image/png": "[encoded data removed]",
      "text/plain": [
       "<Figure size 1000x500 with 1 Axes>"
      ]
     },
     "metadata": {},
     "output_type": "display_data"
    }
   ],
   "source": [
    "# Plotting learning curve for loss\n",
    "plt.figure(figsize=(10, 5))\n",
    "plt.plot(range(1, len(train_losses) + 1), train_losses, label='Train Loss')\n",
    "plt.plot(range(1, len(val_losses) + 1), val_losses, label='Validation Loss')\n",
    "plt.xlabel('Epochs')\n",
    "plt.ylabel('Loss')\n",
    "plt.legend()\n",
    "plt.title('Learning Curve - Loss')\n",
    "plt.show()\n",
    "\n",
    "# Plotting learning curve for accuracy\n",
    "plt.figure(figsize=(10, 5))\n",
    "plt.plot(range(1, len(train_accuracies) + 1), train_accuracies, label='Train Accuracy')\n",
    "plt.plot(range(1, len(val_accuracies) + 1), val_accuracies, label='Validation Accuracy')\n",
    "plt.xlabel('Epochs')\n",
    "plt.ylabel('Accuracy')\n",
    "plt.legend()\n",
    "plt.title('Learning Curve - Accuracy')\n",
    "plt.show()"
   ]
  },
  {
   "cell_type": "code",
   "execution_count": 18,
   "id": "986b80d6-5cda-4185-89c6-0babfa133910",
   "metadata": {},
   "outputs": [
    {
     "name": "stderr",
     "output_type": "stream",
     "text": [
      "Evaluating on Test Data: 100%|█████████████████████████████████████████████████████████| 40/40 [00:11<00:00,  3.45it/s]"
     ]
    },
    {
     "name": "stdout",
     "output_type": "stream",
     "text": [
      "              precision    recall  f1-score   support\n",
      "\n",
      "    Negative       0.98      0.96      0.97       371\n",
      "    Positive       0.94      0.97      0.96       258\n",
      "\n",
      "    accuracy                           0.97       629\n",
      "   macro avg       0.96      0.97      0.96       629\n",
      "weighted avg       0.97      0.97      0.97       629\n",
      "\n"
     ]
    },
    {
     "name": "stderr",
     "output_type": "stream",
     "text": [
      "\n"
     ]
    }
   ],
   "source": [
    "model.eval()\n",
    "all_predictions = []\n",
    "all_targets = []\n",
    "\n",
    "for batch in tqdm(test_loader, desc=\"Evaluating on Test Data\"):\n",
    "    input_ids = batch['input_ids'].to(device)\n",
    "    attention_mask = batch['attention_mask'].to(device)\n",
    "    targets = batch['targets'].to(device)\n",
    "\n",
    "    with torch.no_grad():\n",
    "        outputs = model(input_ids=input_ids, attention_mask=attention_mask)\n",
    "        logits = outputs.logits\n",
    "\n",
    "    predictions = torch.argmax(logits, dim=-1)\n",
    "    all_predictions.extend(predictions.cpu().numpy())\n",
    "    all_targets.extend(targets.cpu().numpy())\n",
    "\n",
    "target_names = ['Negative', 'Positive']\n",
    "print(classification_report(all_targets, all_predictions, target_names=target_names))"
   ]
  },
  {
   "cell_type": "code",
   "execution_count": 19,
   "id": "e88d2f96-540d-496a-8bfa-d742641105d8",
   "metadata": {},
   "outputs": [
    {
     "data": {
      "image/png": "[encoded data removed]",
      "text/plain": [
       "<Figure size 800x600 with 2 Axes>"
      ]
     },
     "metadata": {},
     "output_type": "display_data"
    }
   ],
   "source": [
    "import seaborn as sns\n",
    "conf_matrix = confusion_matrix(all_targets, all_predictions)\n",
    "\n",
    "plt.figure(figsize=(8, 6))\n",
    "sns.heatmap(conf_matrix, annot=True, fmt='d', cmap='Blues', xticklabels=target_names, yticklabels=target_names)\n",
    "plt.xlabel('Predicted')\n",
    "plt.ylabel('Actual')\n",
    "plt.title('Confusion Matrix')\n",
    "plt.show()"
   ]
  },
  {
   "cell_type": "code",
   "execution_count": 20,
   "id": "c9d3f07f-68f6-4ad8-a17f-b396f86284b8",
   "metadata": {},
   "outputs": [
    {
     "name": "stdout",
     "output_type": "stream",
     "text": [
      "\n",
      "False Positives (Predicted Positive, Actual Negative):\n",
      "Total False Positives: 15\n",
      "Index: 8, Review: tolong permudah live kasih trafik\n",
      "Index: 133, Review: bagus\n",
      "Index: 134, Review: semoga sistem familiar ekpedisi bertambah pilihannya ãåââ\n",
      "Index: 182, Review: belanja murah toko sebelah\n",
      "Index: 191, Review: semoga dipermudahkan berjualan sinj\n",
      "Index: 198, Review: perbaiki bagus aplikasinya aplikasi penghasilan jualan produk aplikasi terima kasih\n",
      "Index: 205, Review: aplikasi ok\n",
      "Index: 217, Review: ya mudah mudahan akun bantu bejualan\n",
      "Index: 360, Review: bqik\n",
      "Index: 434, Review: ya douwdlot brlm pakai barangnya toko\n",
      "Index: 448, Review: membantu afiliator pemula sayajd gampang deskripsiharga promo\n",
      "Index: 492, Review: gooooookd\n",
      "Index: 494, Review: belibet katagori tolong berguna terima kasih\n",
      "Index: 512, Review: suka\n",
      "Index: 530, Review: bermanfaat\n",
      "\n",
      "False Negatives (Predicted Negative, Actual Positive):\n",
      "Total False Negatives: 7\n",
      "Index: 1, Review: bahasanya tolong ganti pakai bahasa indonesia sih pilihan ktp iya pakai paspor indonesia pakenya ktp paspor asli indonesia\n",
      "Index: 77, Review: aplikasi bagus bingung penjual promosi\n",
      "Index: 142, Review: dana caircair parah\n",
      "Index: 440, Review: loginnya mudah\n",
      "Index: 463, Review: pelanggaran ampun\n",
      "Index: 479, Review: sumber penghasilan\n",
      "Index: 568, Review: management tiktok tolong dipertimbangkan kebijakan berat sebelah kebijakan seller buyer\n"
     ]
    }
   ],
   "source": [
    "# Identifikasi False Positives (FP) dan False Negatives (FN)\n",
    "false_positives = []\n",
    "false_negatives = []\n",
    "\n",
    "for i in range(len(all_predictions)):\n",
    "    if all_predictions[i] == 1 and all_targets[i] == 0:\n",
    "        false_positives.append((i, test_df.iloc[i]['review']))\n",
    "    elif all_predictions[i] == 0 and all_targets[i] == 1:\n",
    "        false_negatives.append((i, test_df.iloc[i]['review']))\n",
    "\n",
    "# Menampilkan False Positives\n",
    "print(\"\\nFalse Positives (Predicted Positive, Actual Negative):\")\n",
    "print(f\"Total False Positives: {len(false_positives)}\")\n",
    "for idx, review in false_positives:\n",
    "    print(f\"Index: {idx}, Review: {review}\")\n",
    "\n",
    "# Menampilkan False Negatives\n",
    "print(\"\\nFalse Negatives (Predicted Negative, Actual Positive):\")\n",
    "print(f\"Total False Negatives: {len(false_negatives)}\")\n",
    "for idx, review in false_negatives:\n",
    "    print(f\"Index: {idx}, Review: {review}\")\n"
   ]
  },
  {
   "cell_type": "code",
   "execution_count": null,
   "id": "f4b6f364-4a8a-4ec3-8db1-a127d833e8cc",
   "metadata": {},
   "outputs": [],
   "source": [
    "# Function to predict sentiment\n",
    "def predict_sentiment(review, tokenizer, model, max_len=128):\n",
    "    model.eval()\n",
    "    inputs = tokenizer.encode_plus(\n",
    "        review,\n",
    "        add_special_tokens=True,\n",
    "        max_length=max_len,\n",
    "        return_token_type_ids=False,\n",
    "        pad_to_max_length=True,\n",
    "        return_attention_mask=True,\n",
    "        return_tensors='pt',\n",
    "    )\n",
    "    \n",
    "    input_ids = inputs['input_ids'].to(device)\n",
    "    attention_mask = inputs['attention_mask'].to(device)\n",
    "    \n",
    "    with torch.no_grad():\n",
    "        outputs = model(input_ids=input_ids, attention_mask=attention_mask)\n",
    "        logits = outputs.logits\n",
    "    \n",
    "    prediction = torch.argmax(logits, dim=-1).cpu().numpy()[0]\n",
    "    return \"Positif\" if prediction == 1 else \"Negatif\""
   ]
  },
  {
   "cell_type": "code",
   "execution_count": null,
   "id": "76774c89-c99c-4ce8-bbed-440ea9bfc462",
   "metadata": {},
   "outputs": [],
   "source": [
    "# Test the prediction function\n",
    "example_reviews = [\n",
    "    \"upload produk hasil foto sendiri tapi kena pelanggaran\",\n",
    "    \"tampilannya mempermudah pengguna baru\"\n",
    "]\n",
    "\n",
    "for review in example_reviews:\n",
    "    sentiment = predict_sentiment(review, tokenizer, model)\n",
    "    print(f\"Review: {review} | Sentiment: {sentiment}\")"
   ]
  },
  {
   "cell_type": "code",
   "execution_count": null,
   "id": "1cd5f0fc-63f6-49d9-be0d-7c8740cef196",
   "metadata": {},
   "outputs": [],
   "source": [
    "# Simpan model\n",
    "model_dir = \"sentiment_model\"\n",
    "model.save_pretrained(model_dir)\n",
    "\n",
    "# Simpan tokenizer\n",
    "tokenizer_dir = \"sentiment_tokenizer\"\n",
    "tokenizer.save_pretrained(tokenizer_dir)"
   ]
  },
  {
   "cell_type": "code",
   "execution_count": null,
   "id": "492af325-4f99-47b2-9021-43f8193ee06b",
   "metadata": {},
   "outputs": [],
   "source": []
  }
 ],
 "metadata": {
  "kernelspec": {
   "display_name": "Python 3 (ipykernel)",
   "language": "python",
   "name": "python3"
  },
  "language_info": {
   "codemirror_mode": {
    "name": "ipython",
    "version": 3
   },
   "file_extension": ".py",
   "mimetype": "text/x-python",
   "name": "python",
   "nbconvert_exporter": "python",
   "pygments_lexer": "ipython3",
   "version": "3.12.3"
  }
 },
 "nbformat": 4,
 "nbformat_minor": 5
}
