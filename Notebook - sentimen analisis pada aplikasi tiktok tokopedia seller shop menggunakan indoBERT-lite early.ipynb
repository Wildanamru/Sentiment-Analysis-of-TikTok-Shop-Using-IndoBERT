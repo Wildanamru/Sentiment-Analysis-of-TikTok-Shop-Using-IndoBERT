{
 "cells": [
  {
   "cell_type": "code",
   "execution_count": null,
   "id": "85b2479d-949c-4e54-8916-9686cca1cf44",
   "metadata": {},
   "outputs": [],
   "source": [
    "pip install seaborn"
   ]
  },
  {
   "cell_type": "code",
   "execution_count": 1,
   "id": "02bb5853-a64f-4b43-99f7-102ecabc7dd3",
   "metadata": {},
   "outputs": [],
   "source": [
    "import pandas as pd\n",
    "from transformers import BertTokenizer, BertForSequenceClassification\n",
    "from torch.utils.data import Dataset, DataLoader\n",
    "import torch\n",
    "from torch.optim import AdamW\n",
    "from torch.nn import CrossEntropyLoss\n",
    "from sklearn.model_selection import train_test_split\n",
    "from sklearn.metrics import classification_report, confusion_matrix\n",
    "import matplotlib.pyplot as plt\n",
    "from tqdm import tqdm\n",
    "import seaborn as sns\n",
    "import warnings\n",
    "\n",
    "from transformers import BertTokenizer, AutoModelForSequenceClassification, AdamW\n",
    "import torch\n",
    "from torch.utils.data import Dataset, DataLoader\n",
    "from torch.nn import CrossEntropyLoss\n",
    "from tqdm import tqdm\n",
    "\n",
    "warnings.filterwarnings(\"ignore\")"
   ]
  },
  {
   "cell_type": "code",
   "execution_count": 2,
   "id": "d75fbee9-0269-4d53-8bf5-2fe5f2bd7b80",
   "metadata": {},
   "outputs": [
    {
     "data": {
      "text/plain": [
       "True"
      ]
     },
     "execution_count": 2,
     "metadata": {},
     "output_type": "execute_result"
    }
   ],
   "source": [
    "import torch \n",
    "\n",
    "torch.cuda.is_available()"
   ]
  },
  {
   "cell_type": "code",
   "execution_count": 3,
   "id": "e3c6c849-de7d-4c4b-9fb3-e7892012e1e2",
   "metadata": {},
   "outputs": [
    {
     "data": {
      "text/html": [
       "<div>\n",
       "<style scoped>\n",
       "    .dataframe tbody tr th:only-of-type {\n",
       "        vertical-align: middle;\n",
       "    }\n",
       "\n",
       "    .dataframe tbody tr th {\n",
       "        vertical-align: top;\n",
       "    }\n",
       "\n",
       "    .dataframe thead th {\n",
       "        text-align: right;\n",
       "    }\n",
       "</style>\n",
       "<table border=\"1\" class=\"dataframe\">\n",
       "  <thead>\n",
       "    <tr style=\"text-align: right;\">\n",
       "      <th></th>\n",
       "      <th>content</th>\n",
       "      <th>sentiment</th>\n",
       "    </tr>\n",
       "  </thead>\n",
       "  <tbody>\n",
       "    <tr>\n",
       "      <th>0</th>\n",
       "      <td>tolong keuangan transfer rekening berbeda reke...</td>\n",
       "      <td>negative</td>\n",
       "    </tr>\n",
       "    <tr>\n",
       "      <th>1</th>\n",
       "      <td>sumpah ya aplikasi seller buruk tuh duitnya la...</td>\n",
       "      <td>negative</td>\n",
       "    </tr>\n",
       "    <tr>\n",
       "      <th>2</th>\n",
       "      <td>susah ribet</td>\n",
       "      <td>negative</td>\n",
       "    </tr>\n",
       "    <tr>\n",
       "      <th>3</th>\n",
       "      <td>capai bikin dekripsi tolak kacau</td>\n",
       "      <td>negative</td>\n",
       "    </tr>\n",
       "    <tr>\n",
       "      <th>4</th>\n",
       "      <td>pelanggaran upload barang</td>\n",
       "      <td>negative</td>\n",
       "    </tr>\n",
       "  </tbody>\n",
       "</table>\n",
       "</div>"
      ],
      "text/plain": [
       "                                             content sentiment\n",
       "0  tolong keuangan transfer rekening berbeda reke...  negative\n",
       "1  sumpah ya aplikasi seller buruk tuh duitnya la...  negative\n",
       "2                                        susah ribet  negative\n",
       "3                   capai bikin dekripsi tolak kacau  negative\n",
       "4                          pelanggaran upload barang  negative"
      ]
     },
     "execution_count": 3,
     "metadata": {},
     "output_type": "execute_result"
    }
   ],
   "source": [
    "df = pd.read_csv('tiktokpre2.csv')\n",
    "df.head()"
   ]
  },
  {
   "cell_type": "code",
   "execution_count": 4,
   "id": "506705ac-3faf-45e2-8741-ea072a18ff60",
   "metadata": {},
   "outputs": [
    {
     "name": "stdout",
     "output_type": "stream",
     "text": [
      "<class 'pandas.core.frame.DataFrame'>\n",
      "RangeIndex: 3145 entries, 0 to 3144\n",
      "Data columns (total 2 columns):\n",
      " #   Column     Non-Null Count  Dtype \n",
      "---  ------     --------------  ----- \n",
      " 0   content    3145 non-null   object\n",
      " 1   sentiment  3145 non-null   object\n",
      "dtypes: object(2)\n",
      "memory usage: 49.3+ KB\n"
     ]
    }
   ],
   "source": [
    "df.info()"
   ]
  },
  {
   "cell_type": "code",
   "execution_count": 5,
   "id": "b67e8f14-10c5-4177-8447-b9680720e1d9",
   "metadata": {},
   "outputs": [],
   "source": [
    "df = df.rename(columns={'content': 'review'})"
   ]
  },
  {
   "cell_type": "code",
   "execution_count": 6,
   "id": "1d8bb992-f6e1-4b3b-99d5-ce92f5944a41",
   "metadata": {},
   "outputs": [
    {
     "data": {
      "text/html": [
       "<div>\n",
       "<style scoped>\n",
       "    .dataframe tbody tr th:only-of-type {\n",
       "        vertical-align: middle;\n",
       "    }\n",
       "\n",
       "    .dataframe tbody tr th {\n",
       "        vertical-align: top;\n",
       "    }\n",
       "\n",
       "    .dataframe thead th {\n",
       "        text-align: right;\n",
       "    }\n",
       "</style>\n",
       "<table border=\"1\" class=\"dataframe\">\n",
       "  <thead>\n",
       "    <tr style=\"text-align: right;\">\n",
       "      <th></th>\n",
       "      <th>review</th>\n",
       "      <th>sentiment</th>\n",
       "    </tr>\n",
       "  </thead>\n",
       "  <tbody>\n",
       "    <tr>\n",
       "      <th>0</th>\n",
       "      <td>tolong keuangan transfer rekening berbeda reke...</td>\n",
       "      <td>negative</td>\n",
       "    </tr>\n",
       "    <tr>\n",
       "      <th>1</th>\n",
       "      <td>sumpah ya aplikasi seller buruk tuh duitnya la...</td>\n",
       "      <td>negative</td>\n",
       "    </tr>\n",
       "    <tr>\n",
       "      <th>2</th>\n",
       "      <td>susah ribet</td>\n",
       "      <td>negative</td>\n",
       "    </tr>\n",
       "    <tr>\n",
       "      <th>3</th>\n",
       "      <td>capai bikin dekripsi tolak kacau</td>\n",
       "      <td>negative</td>\n",
       "    </tr>\n",
       "    <tr>\n",
       "      <th>4</th>\n",
       "      <td>pelanggaran upload barang</td>\n",
       "      <td>negative</td>\n",
       "    </tr>\n",
       "  </tbody>\n",
       "</table>\n",
       "</div>"
      ],
      "text/plain": [
       "                                              review sentiment\n",
       "0  tolong keuangan transfer rekening berbeda reke...  negative\n",
       "1  sumpah ya aplikasi seller buruk tuh duitnya la...  negative\n",
       "2                                        susah ribet  negative\n",
       "3                   capai bikin dekripsi tolak kacau  negative\n",
       "4                          pelanggaran upload barang  negative"
      ]
     },
     "execution_count": 6,
     "metadata": {},
     "output_type": "execute_result"
    }
   ],
   "source": [
    "df.head()"
   ]
  },
  {
   "cell_type": "code",
   "execution_count": 7,
   "id": "1a0844b4-3280-4b09-8cdf-4cd8a2e5e21a",
   "metadata": {},
   "outputs": [
    {
     "data": {
      "text/html": [
       "<div>\n",
       "<style scoped>\n",
       "    .dataframe tbody tr th:only-of-type {\n",
       "        vertical-align: middle;\n",
       "    }\n",
       "\n",
       "    .dataframe tbody tr th {\n",
       "        vertical-align: top;\n",
       "    }\n",
       "\n",
       "    .dataframe thead th {\n",
       "        text-align: right;\n",
       "    }\n",
       "</style>\n",
       "<table border=\"1\" class=\"dataframe\">\n",
       "  <thead>\n",
       "    <tr style=\"text-align: right;\">\n",
       "      <th></th>\n",
       "      <th>review</th>\n",
       "      <th>sentiment</th>\n",
       "    </tr>\n",
       "  </thead>\n",
       "  <tbody>\n",
       "    <tr>\n",
       "      <th>0</th>\n",
       "      <td>tolong keuangan transfer rekening berbeda reke...</td>\n",
       "      <td>0</td>\n",
       "    </tr>\n",
       "    <tr>\n",
       "      <th>1</th>\n",
       "      <td>sumpah ya aplikasi seller buruk tuh duitnya la...</td>\n",
       "      <td>0</td>\n",
       "    </tr>\n",
       "    <tr>\n",
       "      <th>2</th>\n",
       "      <td>susah ribet</td>\n",
       "      <td>0</td>\n",
       "    </tr>\n",
       "    <tr>\n",
       "      <th>3</th>\n",
       "      <td>capai bikin dekripsi tolak kacau</td>\n",
       "      <td>0</td>\n",
       "    </tr>\n",
       "    <tr>\n",
       "      <th>4</th>\n",
       "      <td>pelanggaran upload barang</td>\n",
       "      <td>0</td>\n",
       "    </tr>\n",
       "  </tbody>\n",
       "</table>\n",
       "</div>"
      ],
      "text/plain": [
       "                                              review  sentiment\n",
       "0  tolong keuangan transfer rekening berbeda reke...          0\n",
       "1  sumpah ya aplikasi seller buruk tuh duitnya la...          0\n",
       "2                                        susah ribet          0\n",
       "3                   capai bikin dekripsi tolak kacau          0\n",
       "4                          pelanggaran upload barang          0"
      ]
     },
     "execution_count": 7,
     "metadata": {},
     "output_type": "execute_result"
    }
   ],
   "source": [
    "df['sentiment'].replace({'positive': 1, 'negative': 0}, inplace=True)\n",
    "df.head()"
   ]
  },
  {
   "cell_type": "code",
   "execution_count": 8,
   "id": "ce34a434-d237-4cf4-8830-f010606fc312",
   "metadata": {},
   "outputs": [
    {
     "name": "stdout",
     "output_type": "stream",
     "text": [
      "sentiment\n",
      "0    1755\n",
      "1    1390\n",
      "Name: count, dtype: int64\n"
     ]
    }
   ],
   "source": [
    "frequency = df['sentiment'].value_counts()\n",
    "print(frequency)"
   ]
  },
  {
   "cell_type": "code",
   "execution_count": 9,
   "id": "471f9d6d-a1db-4f7f-8b68-b70927beef92",
   "metadata": {},
   "outputs": [],
   "source": [
    "train_val_df, test_df = train_test_split(df, test_size=0.2, random_state=42)\n",
    "train_df, val_df = train_test_split(train_val_df, test_size=0.2, random_state=42)"
   ]
  },
  {
   "cell_type": "code",
   "execution_count": 10,
   "id": "dc361cf9-b32f-47f8-97b8-e7a1073a112c",
   "metadata": {},
   "outputs": [
    {
     "name": "stdout",
     "output_type": "stream",
     "text": [
      "Jumlah data train: 2012\n",
      "Jumlah data val: 504\n",
      "Jumlah data test: 629\n"
     ]
    }
   ],
   "source": [
    "print(\"Jumlah data train:\", train_df.shape[0])\n",
    "print(\"Jumlah data val:\", val_df.shape[0])\n",
    "print(\"Jumlah data test:\", test_df.shape[0])"
   ]
  },
  {
   "cell_type": "code",
   "execution_count": 11,
   "id": "c2ef0df5-20a0-40b6-9c78-9461e12fbc5c",
   "metadata": {},
   "outputs": [
    {
     "name": "stderr",
     "output_type": "stream",
     "text": [
      "The tokenizer class you load from this checkpoint is not the same type as the class this function is called from. It may result in unexpected tokenization. \n",
      "The tokenizer class you load from this checkpoint is 'AlbertTokenizerFast'. \n",
      "The class this function is called from is 'BertTokenizer'.\n"
     ]
    }
   ],
   "source": [
    "# Tokenization\n",
    "from transformers import BertTokenizer, AutoModel\n",
    "tokenizer = BertTokenizer.from_pretrained(\"indobenchmark/indobert-lite-base-p2\")"
   ]
  },
  {
   "cell_type": "code",
   "execution_count": 12,
   "id": "09b2fb01-be40-4c69-b28c-9870edcdf682",
   "metadata": {},
   "outputs": [],
   "source": [
    "class SentimentDataset(Dataset):\n",
    "    def __init__(self, reviews, targets, tokenizer, max_len):\n",
    "        self.reviews = reviews\n",
    "        self.targets = targets\n",
    "        self.tokenizer = tokenizer\n",
    "        self.max_len = max_len\n",
    "    \n",
    "    def __len__(self):\n",
    "        return len(self.reviews)\n",
    "    \n",
    "    def __getitem__(self, item):\n",
    "        review = str(self.reviews[item])\n",
    "        target = self.targets[item]\n",
    "\n",
    "        encoding = self.tokenizer.encode_plus(\n",
    "            review,\n",
    "            add_special_tokens=True,\n",
    "            max_length=self.max_len,\n",
    "            return_token_type_ids=False,\n",
    "            pad_to_max_length=True,\n",
    "            return_attention_mask=True,\n",
    "            return_tensors='pt',\n",
    "        )\n",
    "\n",
    "        return {\n",
    "            'input_ids': encoding['input_ids'].flatten(),\n",
    "            'attention_mask': encoding['attention_mask'].flatten(),\n",
    "            'targets': torch.tensor(target, dtype=torch.long)\n",
    "        }"
   ]
  },
  {
   "cell_type": "code",
   "execution_count": 13,
   "id": "268a6f0d-9ef7-4a22-a585-6fd9dee936d9",
   "metadata": {},
   "outputs": [],
   "source": [
    "# Prepare DataLoader for training data\n",
    "MAX_LEN = 128\n",
    "BATCH_SIZE = 16\n",
    "\n",
    "train_dataset = SentimentDataset(\n",
    "    reviews=train_df.review.to_numpy(),\n",
    "    targets=train_df.sentiment.to_numpy(),\n",
    "    tokenizer=tokenizer,\n",
    "    max_len=MAX_LEN\n",
    ")\n",
    "\n",
    "train_loader = DataLoader(train_dataset, batch_size=BATCH_SIZE, shuffle=True)\n",
    "\n",
    "# Prepare DataLoader for validation data\n",
    "val_dataset = SentimentDataset(\n",
    "    reviews=val_df.review.to_numpy(),\n",
    "    targets=val_df.sentiment.to_numpy(),\n",
    "    tokenizer=tokenizer,\n",
    "    max_len=MAX_LEN\n",
    ")\n",
    "\n",
    "val_loader = DataLoader(val_dataset, batch_size=BATCH_SIZE, shuffle=False)\n",
    "\n",
    "# Prepare DataLoader for test data\n",
    "test_dataset = SentimentDataset(\n",
    "    reviews=test_df.review.to_numpy(),\n",
    "    targets=test_df.sentiment.to_numpy(),\n",
    "    tokenizer=tokenizer,\n",
    "    max_len=MAX_LEN\n",
    ")\n",
    "\n",
    "test_loader = DataLoader(test_dataset, batch_size=BATCH_SIZE, shuffle=False)"
   ]
  },
  {
   "cell_type": "code",
   "execution_count": 14,
   "id": "482c8d8d-692e-430b-977f-e53b4351b471",
   "metadata": {},
   "outputs": [
    {
     "name": "stderr",
     "output_type": "stream",
     "text": [
      "Some weights of AlbertForSequenceClassification were not initialized from the model checkpoint at indobenchmark/indobert-lite-base-p2 and are newly initialized: ['classifier.bias', 'classifier.weight']\n",
      "You should probably TRAIN this model on a down-stream task to be able to use it for predictions and inference.\n"
     ]
    }
   ],
   "source": [
    "# Define model\n",
    "model = AutoModelForSequenceClassification.from_pretrained('indobenchmark/indobert-lite-base-p2', num_labels=2)\n",
    "device = torch.device('cuda' if torch.cuda.is_available() else 'cpu')\n",
    "model = model.to(device)"
   ]
  },
  {
   "cell_type": "code",
   "execution_count": 15,
   "id": "a35067ba-8017-4353-ac86-cc4d79ba6257",
   "metadata": {},
   "outputs": [],
   "source": [
    "# Optimizer\n",
    "optimizer = AdamW(model.parameters(), lr=1e-7)"
   ]
  },
  {
   "cell_type": "code",
   "execution_count": 16,
   "id": "3a4d7591-b138-4af1-be71-778e774f642c",
   "metadata": {},
   "outputs": [
    {
     "name": "stderr",
     "output_type": "stream",
     "text": [
      "Training Epoch 1:   0%|                                                                        | 0/126 [00:00<?, ?it/s]Truncation was not explicitly activated but `max_length` is provided a specific value, please use `truncation=True` to explicitly truncate examples to max length. Defaulting to 'longest_first' truncation strategy. If you encode pairs of sequences (GLUE-style) with the tokenizer you can select this strategy more precisely by providing a specific strategy to `truncation`.\n",
      "Training Epoch 1: 100%|██████████████████████████████████████████████████████████████| 126/126 [01:29<00:00,  1.41it/s]\n",
      "Evaluating: 100%|██████████████████████████████████████████████████████████████████████| 32/32 [00:09<00:00,  3.48it/s]\n"
     ]
    },
    {
     "name": "stdout",
     "output_type": "stream",
     "text": [
      "Epoch 1 - Train Loss: 0.7874560715660216 - Validation Loss: 0.7573061194270849\n",
      "Epoch 1 - Train Accuracy: 0.4388667992047714 - Validation Accuracy: 0.49603174603174605\n"
     ]
    },
    {
     "name": "stderr",
     "output_type": "stream",
     "text": [
      "Training Epoch 2: 100%|██████████████████████████████████████████████████████████████| 126/126 [01:21<00:00,  1.55it/s]\n",
      "Evaluating: 100%|██████████████████████████████████████████████████████████████████████| 32/32 [00:09<00:00,  3.47it/s]\n"
     ]
    },
    {
     "name": "stdout",
     "output_type": "stream",
     "text": [
      "Epoch 2 - Train Loss: 0.7230791501582615 - Validation Loss: 0.6975161600857973\n",
      "Epoch 2 - Train Accuracy: 0.5064612326043738 - Validation Accuracy: 0.5178571428571429\n"
     ]
    },
    {
     "name": "stderr",
     "output_type": "stream",
     "text": [
      "Training Epoch 3: 100%|██████████████████████████████████████████████████████████████| 126/126 [01:21<00:00,  1.54it/s]\n",
      "Evaluating: 100%|██████████████████████████████████████████████████████████████████████| 32/32 [00:09<00:00,  3.48it/s]\n"
     ]
    },
    {
     "name": "stdout",
     "output_type": "stream",
     "text": [
      "Epoch 3 - Train Loss: 0.6752597770047566 - Validation Loss: 0.646567914634943\n",
      "Epoch 3 - Train Accuracy: 0.5864811133200796 - Validation Accuracy: 0.6130952380952381\n"
     ]
    },
    {
     "name": "stderr",
     "output_type": "stream",
     "text": [
      "Training Epoch 4: 100%|██████████████████████████████████████████████████████████████| 126/126 [01:22<00:00,  1.53it/s]\n",
      "Evaluating: 100%|██████████████████████████████████████████████████████████████████████| 32/32 [00:09<00:00,  3.46it/s]\n"
     ]
    },
    {
     "name": "stdout",
     "output_type": "stream",
     "text": [
      "Epoch 4 - Train Loss: 0.6254335868926275 - Validation Loss: 0.6023775544017553\n",
      "Epoch 4 - Train Accuracy: 0.6530815109343936 - Validation Accuracy: 0.753968253968254\n"
     ]
    },
    {
     "name": "stderr",
     "output_type": "stream",
     "text": [
      "Training Epoch 5: 100%|██████████████████████████████████████████████████████████████| 126/126 [01:22<00:00,  1.54it/s]\n",
      "Evaluating: 100%|██████████████████████████████████████████████████████████████████████| 32/32 [00:09<00:00,  3.48it/s]\n"
     ]
    },
    {
     "name": "stdout",
     "output_type": "stream",
     "text": [
      "Epoch 5 - Train Loss: 0.5847129705879424 - Validation Loss: 0.5633257096633315\n",
      "Epoch 5 - Train Accuracy: 0.7549701789264414 - Validation Accuracy: 0.7976190476190477\n"
     ]
    },
    {
     "name": "stderr",
     "output_type": "stream",
     "text": [
      "Training Epoch 6: 100%|██████████████████████████████████████████████████████████████| 126/126 [01:23<00:00,  1.51it/s]\n",
      "Evaluating: 100%|██████████████████████████████████████████████████████████████████████| 32/32 [00:09<00:00,  3.42it/s]\n"
     ]
    },
    {
     "name": "stdout",
     "output_type": "stream",
     "text": [
      "Epoch 6 - Train Loss: 0.5520187351438735 - Validation Loss: 0.5265971003100276\n",
      "Epoch 6 - Train Accuracy: 0.7952286282306164 - Validation Accuracy: 0.8313492063492064\n"
     ]
    },
    {
     "name": "stderr",
     "output_type": "stream",
     "text": [
      "Training Epoch 7: 100%|██████████████████████████████████████████████████████████████| 126/126 [01:24<00:00,  1.50it/s]\n",
      "Evaluating: 100%|██████████████████████████████████████████████████████████████████████| 32/32 [00:09<00:00,  3.41it/s]\n"
     ]
    },
    {
     "name": "stdout",
     "output_type": "stream",
     "text": [
      "Epoch 7 - Train Loss: 0.5155017054270185 - Validation Loss: 0.49332983884960413\n",
      "Epoch 7 - Train Accuracy: 0.8151093439363817 - Validation Accuracy: 0.8392857142857143\n"
     ]
    },
    {
     "name": "stderr",
     "output_type": "stream",
     "text": [
      "Training Epoch 8: 100%|██████████████████████████████████████████████████████████████| 126/126 [01:23<00:00,  1.51it/s]\n",
      "Evaluating: 100%|██████████████████████████████████████████████████████████████████████| 32/32 [00:09<00:00,  3.41it/s]\n"
     ]
    },
    {
     "name": "stdout",
     "output_type": "stream",
     "text": [
      "Epoch 8 - Train Loss: 0.48897567036606016 - Validation Loss: 0.46445759385824203\n",
      "Epoch 8 - Train Accuracy: 0.831013916500994 - Validation Accuracy: 0.8492063492063492\n"
     ]
    },
    {
     "name": "stderr",
     "output_type": "stream",
     "text": [
      "Training Epoch 9: 100%|██████████████████████████████████████████████████████████████| 126/126 [01:24<00:00,  1.49it/s]\n",
      "Evaluating: 100%|██████████████████████████████████████████████████████████████████████| 32/32 [00:09<00:00,  3.38it/s]\n"
     ]
    },
    {
     "name": "stdout",
     "output_type": "stream",
     "text": [
      "Epoch 9 - Train Loss: 0.46059239005285596 - Validation Loss: 0.44006154872477055\n",
      "Epoch 9 - Train Accuracy: 0.8369781312127237 - Validation Accuracy: 0.8551587301587301\n"
     ]
    },
    {
     "name": "stderr",
     "output_type": "stream",
     "text": [
      "Training Epoch 10: 100%|█████████████████████████████████████████████████████████████| 126/126 [01:24<00:00,  1.49it/s]\n",
      "Evaluating: 100%|██████████████████████████████████████████████████████████████████████| 32/32 [00:09<00:00,  3.37it/s]\n"
     ]
    },
    {
     "name": "stdout",
     "output_type": "stream",
     "text": [
      "Epoch 10 - Train Loss: 0.43951338364018333 - Validation Loss: 0.4194157486781478\n",
      "Epoch 10 - Train Accuracy: 0.8449304174950298 - Validation Accuracy: 0.8611111111111112\n"
     ]
    },
    {
     "name": "stderr",
     "output_type": "stream",
     "text": [
      "Training Epoch 11: 100%|█████████████████████████████████████████████████████████████| 126/126 [01:27<00:00,  1.44it/s]\n",
      "Evaluating: 100%|██████████████████████████████████████████████████████████████████████| 32/32 [00:09<00:00,  3.35it/s]\n"
     ]
    },
    {
     "name": "stdout",
     "output_type": "stream",
     "text": [
      "Epoch 11 - Train Loss: 0.4233122318983078 - Validation Loss: 0.4013188970275223\n",
      "Epoch 11 - Train Accuracy: 0.8503976143141153 - Validation Accuracy: 0.8670634920634921\n"
     ]
    },
    {
     "name": "stderr",
     "output_type": "stream",
     "text": [
      "Training Epoch 12: 100%|█████████████████████████████████████████████████████████████| 126/126 [01:28<00:00,  1.42it/s]\n",
      "Evaluating: 100%|██████████████████████████████████████████████████████████████████████| 32/32 [00:09<00:00,  3.36it/s]\n"
     ]
    },
    {
     "name": "stdout",
     "output_type": "stream",
     "text": [
      "Epoch 12 - Train Loss: 0.406871800857877 - Validation Loss: 0.3843914628960192\n",
      "Epoch 12 - Train Accuracy: 0.8518886679920478 - Validation Accuracy: 0.873015873015873\n"
     ]
    },
    {
     "name": "stderr",
     "output_type": "stream",
     "text": [
      "Training Epoch 13: 100%|█████████████████████████████████████████████████████████████| 126/126 [01:28<00:00,  1.43it/s]\n",
      "Evaluating: 100%|██████████████████████████████████████████████████████████████████████| 32/32 [00:09<00:00,  3.34it/s]\n"
     ]
    },
    {
     "name": "stdout",
     "output_type": "stream",
     "text": [
      "Epoch 13 - Train Loss: 0.387745732234584 - Validation Loss: 0.36899253726005554\n",
      "Epoch 13 - Train Accuracy: 0.8648111332007953 - Validation Accuracy: 0.8829365079365079\n"
     ]
    },
    {
     "name": "stderr",
     "output_type": "stream",
     "text": [
      "Training Epoch 14: 100%|█████████████████████████████████████████████████████████████| 126/126 [01:28<00:00,  1.42it/s]\n",
      "Evaluating: 100%|██████████████████████████████████████████████████████████████████████| 32/32 [00:09<00:00,  3.29it/s]\n"
     ]
    },
    {
     "name": "stdout",
     "output_type": "stream",
     "text": [
      "Epoch 14 - Train Loss: 0.37059194310790017 - Validation Loss: 0.35309316916391253\n",
      "Epoch 14 - Train Accuracy: 0.8762425447316103 - Validation Accuracy: 0.8928571428571429\n"
     ]
    },
    {
     "name": "stderr",
     "output_type": "stream",
     "text": [
      "Training Epoch 15: 100%|█████████████████████████████████████████████████████████████| 126/126 [01:27<00:00,  1.44it/s]\n",
      "Evaluating: 100%|██████████████████████████████████████████████████████████████████████| 32/32 [00:09<00:00,  3.38it/s]\n"
     ]
    },
    {
     "name": "stdout",
     "output_type": "stream",
     "text": [
      "Epoch 15 - Train Loss: 0.35673315823078156 - Validation Loss: 0.3399140848778188\n",
      "Epoch 15 - Train Accuracy: 0.8802186878727635 - Validation Accuracy: 0.8948412698412699\n"
     ]
    },
    {
     "name": "stderr",
     "output_type": "stream",
     "text": [
      "Training Epoch 16: 100%|█████████████████████████████████████████████████████████████| 126/126 [01:28<00:00,  1.42it/s]\n",
      "Evaluating: 100%|██████████████████████████████████████████████████████████████████████| 32/32 [00:09<00:00,  3.34it/s]\n"
     ]
    },
    {
     "name": "stdout",
     "output_type": "stream",
     "text": [
      "Epoch 16 - Train Loss: 0.34372478841789184 - Validation Loss: 0.3249086285941303\n",
      "Epoch 16 - Train Accuracy: 0.8866799204771372 - Validation Accuracy: 0.9047619047619048\n"
     ]
    },
    {
     "name": "stderr",
     "output_type": "stream",
     "text": [
      "Training Epoch 17: 100%|█████████████████████████████████████████████████████████████| 126/126 [01:28<00:00,  1.42it/s]\n",
      "Evaluating: 100%|██████████████████████████████████████████████████████████████████████| 32/32 [00:09<00:00,  3.35it/s]\n"
     ]
    },
    {
     "name": "stdout",
     "output_type": "stream",
     "text": [
      "Epoch 17 - Train Loss: 0.3286615713011651 - Validation Loss: 0.31223281333222985\n",
      "Epoch 17 - Train Accuracy: 0.8916500994035785 - Validation Accuracy: 0.9067460317460317\n"
     ]
    },
    {
     "name": "stderr",
     "output_type": "stream",
     "text": [
      "Training Epoch 18: 100%|█████████████████████████████████████████████████████████████| 126/126 [01:29<00:00,  1.41it/s]\n",
      "Evaluating: 100%|██████████████████████████████████████████████████████████████████████| 32/32 [00:09<00:00,  3.32it/s]\n"
     ]
    },
    {
     "name": "stdout",
     "output_type": "stream",
     "text": [
      "Epoch 18 - Train Loss: 0.31865465499105905 - Validation Loss: 0.2992188506759703\n",
      "Epoch 18 - Train Accuracy: 0.8966202783300199 - Validation Accuracy: 0.9067460317460317\n"
     ]
    },
    {
     "name": "stderr",
     "output_type": "stream",
     "text": [
      "Training Epoch 19: 100%|█████████████████████████████████████████████████████████████| 126/126 [01:28<00:00,  1.42it/s]\n",
      "Evaluating: 100%|██████████████████████████████████████████████████████████████████████| 32/32 [00:09<00:00,  3.35it/s]\n"
     ]
    },
    {
     "name": "stdout",
     "output_type": "stream",
     "text": [
      "Epoch 19 - Train Loss: 0.3069442573284346 - Validation Loss: 0.2880028239451349\n",
      "Epoch 19 - Train Accuracy: 0.904572564612326 - Validation Accuracy: 0.9126984126984127\n"
     ]
    },
    {
     "name": "stderr",
     "output_type": "stream",
     "text": [
      "Training Epoch 20: 100%|█████████████████████████████████████████████████████████████| 126/126 [01:29<00:00,  1.40it/s]\n",
      "Evaluating: 100%|██████████████████████████████████████████████████████████████████████| 32/32 [00:09<00:00,  3.33it/s]\n"
     ]
    },
    {
     "name": "stdout",
     "output_type": "stream",
     "text": [
      "Epoch 20 - Train Loss: 0.29315313413029626 - Validation Loss: 0.27781544625759125\n",
      "Epoch 20 - Train Accuracy: 0.9070576540755467 - Validation Accuracy: 0.9186507936507936\n"
     ]
    },
    {
     "name": "stderr",
     "output_type": "stream",
     "text": [
      "Training Epoch 21: 100%|█████████████████████████████████████████████████████████████| 126/126 [01:28<00:00,  1.42it/s]\n",
      "Evaluating: 100%|██████████████████████████████████████████████████████████████████████| 32/32 [00:09<00:00,  3.31it/s]\n"
     ]
    },
    {
     "name": "stdout",
     "output_type": "stream",
     "text": [
      "Epoch 21 - Train Loss: 0.2845840670523189 - Validation Loss: 0.2679407703690231\n",
      "Epoch 21 - Train Accuracy: 0.9100397614314115 - Validation Accuracy: 0.9246031746031746\n"
     ]
    },
    {
     "name": "stderr",
     "output_type": "stream",
     "text": [
      "Training Epoch 22: 100%|█████████████████████████████████████████████████████████████| 126/126 [01:28<00:00,  1.43it/s]\n",
      "Evaluating: 100%|██████████████████████████████████████████████████████████████████████| 32/32 [00:09<00:00,  3.36it/s]\n"
     ]
    },
    {
     "name": "stdout",
     "output_type": "stream",
     "text": [
      "Epoch 22 - Train Loss: 0.27398275915119386 - Validation Loss: 0.2599275487009436\n",
      "Epoch 22 - Train Accuracy: 0.9179920477137177 - Validation Accuracy: 0.9246031746031746\n"
     ]
    },
    {
     "name": "stderr",
     "output_type": "stream",
     "text": [
      "Training Epoch 23: 100%|█████████████████████████████████████████████████████████████| 126/126 [01:28<00:00,  1.42it/s]\n",
      "Evaluating: 100%|██████████████████████████████████████████████████████████████████████| 32/32 [00:09<00:00,  3.36it/s]\n"
     ]
    },
    {
     "name": "stdout",
     "output_type": "stream",
     "text": [
      "Epoch 23 - Train Loss: 0.26470576498716597 - Validation Loss: 0.2523075130302459\n",
      "Epoch 23 - Train Accuracy: 0.9224652087475149 - Validation Accuracy: 0.9246031746031746\n"
     ]
    },
    {
     "name": "stderr",
     "output_type": "stream",
     "text": [
      "Training Epoch 24: 100%|█████████████████████████████████████████████████████████████| 126/126 [01:29<00:00,  1.41it/s]\n",
      "Evaluating: 100%|██████████████████████████████████████████████████████████████████████| 32/32 [00:09<00:00,  3.34it/s]\n"
     ]
    },
    {
     "name": "stdout",
     "output_type": "stream",
     "text": [
      "Epoch 24 - Train Loss: 0.25821713553298087 - Validation Loss: 0.24491469841450453\n",
      "Epoch 24 - Train Accuracy: 0.9234592445328031 - Validation Accuracy: 0.9325396825396826\n"
     ]
    },
    {
     "name": "stderr",
     "output_type": "stream",
     "text": [
      "Training Epoch 25: 100%|█████████████████████████████████████████████████████████████| 126/126 [01:28<00:00,  1.42it/s]\n",
      "Evaluating: 100%|██████████████████████████████████████████████████████████████████████| 32/32 [00:09<00:00,  3.35it/s]\n"
     ]
    },
    {
     "name": "stdout",
     "output_type": "stream",
     "text": [
      "Epoch 25 - Train Loss: 0.24949270847534377 - Validation Loss: 0.23845125432126224\n",
      "Epoch 25 - Train Accuracy: 0.9259443339960238 - Validation Accuracy: 0.9345238095238095\n"
     ]
    },
    {
     "name": "stderr",
     "output_type": "stream",
     "text": [
      "Training Epoch 26: 100%|█████████████████████████████████████████████████████████████| 126/126 [01:28<00:00,  1.42it/s]\n",
      "Evaluating: 100%|██████████████████████████████████████████████████████████████████████| 32/32 [00:09<00:00,  3.35it/s]\n"
     ]
    },
    {
     "name": "stdout",
     "output_type": "stream",
     "text": [
      "Epoch 26 - Train Loss: 0.24183221102233918 - Validation Loss: 0.23329785792157054\n",
      "Epoch 26 - Train Accuracy: 0.929920477137177 - Validation Accuracy: 0.9384920634920635\n"
     ]
    },
    {
     "name": "stderr",
     "output_type": "stream",
     "text": [
      "Training Epoch 27: 100%|█████████████████████████████████████████████████████████████| 126/126 [01:28<00:00,  1.42it/s]\n",
      "Evaluating: 100%|██████████████████████████████████████████████████████████████████████| 32/32 [00:09<00:00,  3.36it/s]\n"
     ]
    },
    {
     "name": "stdout",
     "output_type": "stream",
     "text": [
      "Epoch 27 - Train Loss: 0.23533053932681916 - Validation Loss: 0.22753236070275307\n",
      "Epoch 27 - Train Accuracy: 0.9324055666003976 - Validation Accuracy: 0.9404761904761905\n"
     ]
    },
    {
     "name": "stderr",
     "output_type": "stream",
     "text": [
      "Training Epoch 28: 100%|█████████████████████████████████████████████████████████████| 126/126 [01:28<00:00,  1.42it/s]\n",
      "Evaluating: 100%|██████████████████████████████████████████████████████████████████████| 32/32 [00:09<00:00,  3.35it/s]\n"
     ]
    },
    {
     "name": "stdout",
     "output_type": "stream",
     "text": [
      "Epoch 28 - Train Loss: 0.22983808939655623 - Validation Loss: 0.22260701400227845\n",
      "Epoch 28 - Train Accuracy: 0.9324055666003976 - Validation Accuracy: 0.9365079365079365\n"
     ]
    },
    {
     "name": "stderr",
     "output_type": "stream",
     "text": [
      "Training Epoch 29: 100%|█████████████████████████████████████████████████████████████| 126/126 [01:28<00:00,  1.42it/s]\n",
      "Evaluating: 100%|██████████████████████████████████████████████████████████████████████| 32/32 [00:09<00:00,  3.31it/s]\n"
     ]
    },
    {
     "name": "stdout",
     "output_type": "stream",
     "text": [
      "Epoch 29 - Train Loss: 0.2253086723032452 - Validation Loss: 0.2184002452995628\n",
      "Epoch 29 - Train Accuracy: 0.9358846918489065 - Validation Accuracy: 0.9365079365079365\n"
     ]
    },
    {
     "name": "stderr",
     "output_type": "stream",
     "text": [
      "Training Epoch 30: 100%|█████████████████████████████████████████████████████████████| 126/126 [01:28<00:00,  1.42it/s]\n",
      "Evaluating: 100%|██████████████████████████████████████████████████████████████████████| 32/32 [00:09<00:00,  3.36it/s]\n"
     ]
    },
    {
     "name": "stdout",
     "output_type": "stream",
     "text": [
      "Epoch 30 - Train Loss: 0.2207402391802697 - Validation Loss: 0.21453555626794696\n",
      "Epoch 30 - Train Accuracy: 0.9393638170974155 - Validation Accuracy: 0.9365079365079365\n"
     ]
    },
    {
     "name": "stderr",
     "output_type": "stream",
     "text": [
      "Training Epoch 31: 100%|█████████████████████████████████████████████████████████████| 126/126 [01:28<00:00,  1.42it/s]\n",
      "Evaluating: 100%|██████████████████████████████████████████████████████████████████████| 32/32 [00:09<00:00,  3.35it/s]\n"
     ]
    },
    {
     "name": "stdout",
     "output_type": "stream",
     "text": [
      "Epoch 31 - Train Loss: 0.21677541236082712 - Validation Loss: 0.210835991660133\n",
      "Epoch 31 - Train Accuracy: 0.9388667992047713 - Validation Accuracy: 0.9384920634920635\n"
     ]
    },
    {
     "name": "stderr",
     "output_type": "stream",
     "text": [
      "Training Epoch 32: 100%|█████████████████████████████████████████████████████████████| 126/126 [01:28<00:00,  1.42it/s]\n",
      "Evaluating: 100%|██████████████████████████████████████████████████████████████████████| 32/32 [00:09<00:00,  3.34it/s]\n"
     ]
    },
    {
     "name": "stdout",
     "output_type": "stream",
     "text": [
      "Epoch 32 - Train Loss: 0.2098514199966476 - Validation Loss: 0.20726744015701115\n",
      "Epoch 32 - Train Accuracy: 0.9393638170974155 - Validation Accuracy: 0.9404761904761905\n"
     ]
    },
    {
     "name": "stderr",
     "output_type": "stream",
     "text": [
      "Training Epoch 33: 100%|█████████████████████████████████████████████████████████████| 126/126 [01:28<00:00,  1.42it/s]\n",
      "Evaluating: 100%|██████████████████████████████████████████████████████████████████████| 32/32 [00:09<00:00,  3.36it/s]\n"
     ]
    },
    {
     "name": "stdout",
     "output_type": "stream",
     "text": [
      "Epoch 33 - Train Loss: 0.20518400709307383 - Validation Loss: 0.20409033470787108\n",
      "Epoch 33 - Train Accuracy: 0.941351888667992 - Validation Accuracy: 0.9404761904761905\n"
     ]
    },
    {
     "name": "stderr",
     "output_type": "stream",
     "text": [
      "Training Epoch 34: 100%|█████████████████████████████████████████████████████████████| 126/126 [01:28<00:00,  1.42it/s]\n",
      "Evaluating: 100%|██████████████████████████████████████████████████████████████████████| 32/32 [00:09<00:00,  3.36it/s]\n"
     ]
    },
    {
     "name": "stdout",
     "output_type": "stream",
     "text": [
      "Epoch 34 - Train Loss: 0.2005299347497168 - Validation Loss: 0.20084609487093985\n",
      "Epoch 34 - Train Accuracy: 0.9433399602385686 - Validation Accuracy: 0.9384920634920635\n"
     ]
    },
    {
     "name": "stderr",
     "output_type": "stream",
     "text": [
      "Training Epoch 35: 100%|█████████████████████████████████████████████████████████████| 126/126 [01:28<00:00,  1.42it/s]\n",
      "Evaluating: 100%|██████████████████████████████████████████████████████████████████████| 32/32 [00:09<00:00,  3.25it/s]\n"
     ]
    },
    {
     "name": "stdout",
     "output_type": "stream",
     "text": [
      "Epoch 35 - Train Loss: 0.1979974683315035 - Validation Loss: 0.19854222610592842\n",
      "Epoch 35 - Train Accuracy: 0.9433399602385686 - Validation Accuracy: 0.9384920634920635\n"
     ]
    },
    {
     "name": "stderr",
     "output_type": "stream",
     "text": [
      "Training Epoch 36: 100%|█████████████████████████████████████████████████████████████| 126/126 [01:29<00:00,  1.41it/s]\n",
      "Evaluating: 100%|██████████████████████████████████████████████████████████████████████| 32/32 [00:09<00:00,  3.35it/s]\n"
     ]
    },
    {
     "name": "stdout",
     "output_type": "stream",
     "text": [
      "Epoch 36 - Train Loss: 0.19343193111911652 - Validation Loss: 0.19535493152216077\n",
      "Epoch 36 - Train Accuracy: 0.9433399602385686 - Validation Accuracy: 0.9384920634920635\n"
     ]
    },
    {
     "name": "stderr",
     "output_type": "stream",
     "text": [
      "Training Epoch 37: 100%|█████████████████████████████████████████████████████████████| 126/126 [01:29<00:00,  1.41it/s]\n",
      "Evaluating: 100%|██████████████████████████████████████████████████████████████████████| 32/32 [00:09<00:00,  3.37it/s]\n"
     ]
    },
    {
     "name": "stdout",
     "output_type": "stream",
     "text": [
      "Epoch 37 - Train Loss: 0.190284675844605 - Validation Loss: 0.19305276381783187\n",
      "Epoch 37 - Train Accuracy: 0.944831013916501 - Validation Accuracy: 0.9404761904761905\n"
     ]
    }
   ],
   "source": [
    "# Parameters\n",
    "EPOCHS = 37\n",
    "loss_fn = CrossEntropyLoss().to(device)\n",
    "\n",
    "# Lists to store loss and accuracy\n",
    "train_losses = []\n",
    "val_losses = []\n",
    "train_accuracies = []\n",
    "val_accuracies = []\n",
    "\n",
    "for epoch in range(EPOCHS):\n",
    "    model.train()\n",
    "    total_train_loss = 0\n",
    "    correct_train_predictions = 0\n",
    "    total_train_samples = 0\n",
    "    \n",
    "    for batch in tqdm(train_loader, desc=f\"Training Epoch {epoch + 1}\"):\n",
    "        optimizer.zero_grad()\n",
    "        input_ids = batch['input_ids'].to(device)\n",
    "        attention_mask = batch['attention_mask'].to(device)\n",
    "        targets = batch['targets'].to(device)\n",
    "\n",
    "        outputs = model(input_ids=input_ids, attention_mask=attention_mask, labels=targets)\n",
    "        loss = outputs.loss\n",
    "        loss.backward()\n",
    "        optimizer.step()\n",
    "\n",
    "        total_train_loss += loss.item()\n",
    "\n",
    "        # Calculate accuracy\n",
    "        predictions = outputs.logits.argmax(dim=-1)\n",
    "        correct_train_predictions += (predictions == targets).sum().item()\n",
    "        total_train_samples += targets.size(0)\n",
    "\n",
    "    avg_train_loss = total_train_loss / len(train_loader)\n",
    "    train_losses.append(avg_train_loss)\n",
    "    train_accuracy = correct_train_predictions / total_train_samples\n",
    "    train_accuracies.append(train_accuracy)\n",
    "\n",
    "    model.eval()\n",
    "    total_val_loss = 0\n",
    "    correct_val_predictions = 0\n",
    "    total_val_samples = 0\n",
    "    \n",
    "    for batch in tqdm(val_loader, desc=\"Evaluating\"):\n",
    "        input_ids = batch['input_ids'].to(device)\n",
    "        attention_mask = batch['attention_mask'].to(device)\n",
    "        targets = batch['targets'].to(device)\n",
    "\n",
    "        with torch.no_grad():\n",
    "            outputs = model(input_ids=input_ids, attention_mask=attention_mask, labels=targets)\n",
    "            loss = outputs.loss\n",
    "\n",
    "        total_val_loss += loss.item()\n",
    "\n",
    "        # Calculate accuracy\n",
    "        predictions = outputs.logits.argmax(dim=-1)\n",
    "        correct_val_predictions += (predictions == targets).sum().item()\n",
    "        total_val_samples += targets.size(0)\n",
    "\n",
    "    avg_val_loss = total_val_loss / len(val_loader)\n",
    "    val_losses.append(avg_val_loss)\n",
    "    val_accuracy = correct_val_predictions / total_val_samples\n",
    "    val_accuracies.append(val_accuracy)\n",
    "\n",
    "    print(f\"Epoch {epoch + 1} - Train Loss: {avg_train_loss} - Validation Loss: {avg_val_loss}\")\n",
    "    print(f\"Epoch {epoch + 1} - Train Accuracy: {train_accuracy} - Validation Accuracy: {val_accuracy}\")\n"
   ]
  },
  {
   "cell_type": "code",
   "execution_count": 17,
   "id": "3a6fc575-9f6c-423a-9f3f-d5b54bb77c47",
   "metadata": {},
   "outputs": [
    {
     "data": {
      "image/png": "[encoded data removed]",
      "text/plain": [
       "<Figure size 1000x500 with 1 Axes>"
      ]
     },
     "metadata": {},
     "output_type": "display_data"
    },
    {
     "data": {
      "image/png": "[encoded data removed]",
      "text/plain": [
       "<Figure size 1000x500 with 1 Axes>"
      ]
     },
     "metadata": {},
     "output_type": "display_data"
    }
   ],
   "source": [
    "# Plotting learning curve for loss\n",
    "plt.figure(figsize=(10, 5))\n",
    "plt.plot(range(1, len(train_losses) + 1), train_losses, label='Train Loss')\n",
    "plt.plot(range(1, len(val_losses) + 1), val_losses, label='Validation Loss')\n",
    "plt.xlabel('Epochs')\n",
    "plt.ylabel('Loss')\n",
    "plt.legend()\n",
    "plt.title('Learning Curve - Loss')\n",
    "plt.show()\n",
    "\n",
    "# Plotting learning curve for accuracy\n",
    "plt.figure(figsize=(10, 5))\n",
    "plt.plot(range(1, len(train_accuracies) + 1), train_accuracies, label='Train Accuracy')\n",
    "plt.plot(range(1, len(val_accuracies) + 1), val_accuracies, label='Validation Accuracy')\n",
    "plt.xlabel('Epochs')\n",
    "plt.ylabel('Accuracy')\n",
    "plt.legend()\n",
    "plt.title('Learning Curve - Accuracy')\n",
    "plt.show()"
   ]
  },
  {
   "cell_type": "code",
   "execution_count": 18,
   "id": "986b80d6-5cda-4185-89c6-0babfa133910",
   "metadata": {},
   "outputs": [
    {
     "name": "stderr",
     "output_type": "stream",
     "text": [
      "Evaluating on Test Data: 100%|█████████████████████████████████████████████████████████| 40/40 [00:11<00:00,  3.34it/s]"
     ]
    },
    {
     "name": "stdout",
     "output_type": "stream",
     "text": [
      "              precision    recall  f1-score   support\n",
      "\n",
      "    Negative       0.94      0.95      0.95       371\n",
      "    Positive       0.93      0.92      0.92       258\n",
      "\n",
      "    accuracy                           0.94       629\n",
      "   macro avg       0.93      0.93      0.93       629\n",
      "weighted avg       0.94      0.94      0.94       629\n",
      "\n"
     ]
    },
    {
     "name": "stderr",
     "output_type": "stream",
     "text": [
      "\n"
     ]
    }
   ],
   "source": [
    "# Evaluating on Test Data\n",
    "model.eval()\n",
    "all_predictions = []\n",
    "all_targets = []\n",
    "\n",
    "for batch in tqdm(test_loader, desc=\"Evaluating on Test Data\"):\n",
    "    input_ids = batch['input_ids'].to(device)\n",
    "    attention_mask = batch['attention_mask'].to(device)\n",
    "    targets = batch['targets'].to(device)\n",
    "\n",
    "    with torch.no_grad():\n",
    "        outputs = model(input_ids=input_ids, attention_mask=attention_mask)\n",
    "        logits = outputs.logits\n",
    "\n",
    "    predictions = torch.argmax(logits, dim=-1)\n",
    "    all_predictions.extend(predictions.cpu().numpy())\n",
    "    all_targets.extend(targets.cpu().numpy())\n",
    "\n",
    "# Define target names for the classification report\n",
    "target_names = ['Negative', 'Positive']\n",
    "\n",
    "# Generate and print the classification report\n",
    "print(classification_report(all_targets, all_predictions, target_names=target_names))"
   ]
  },
  {
   "cell_type": "code",
   "execution_count": 19,
   "id": "e88d2f96-540d-496a-8bfa-d742641105d8",
   "metadata": {},
   "outputs": [
    {
     "data": {
      "image/png": "[encoded data removed]",
      "text/plain": [
       "<Figure size 800x600 with 2 Axes>"
      ]
     },
     "metadata": {},
     "output_type": "display_data"
    }
   ],
   "source": [
    "import seaborn as sns\n",
    "\n",
    "conf_matrix = confusion_matrix(all_targets, all_predictions)\n",
    "\n",
    "plt.figure(figsize=(8, 6))\n",
    "sns.heatmap(conf_matrix, annot=True, fmt='d', cmap='Blues', xticklabels=target_names, yticklabels=target_names)\n",
    "plt.xlabel('Predicted')\n",
    "plt.ylabel('Actual')\n",
    "plt.title('Confusion Matrix')\n",
    "plt.show()"
   ]
  },
  {
   "cell_type": "code",
   "execution_count": 20,
   "id": "c3020f38-6c14-4816-a16d-a24d61101451",
   "metadata": {},
   "outputs": [
    {
     "name": "stdout",
     "output_type": "stream",
     "text": [
      "\n",
      "False Positives (Predicted Positive, Actual Negative):\n",
      "Total False Positives: 19\n",
      "Index: 8, Review: tolong permudah live kasih trafik\n",
      "Index: 10, Review: tolong aplikasi diinstal\n",
      "Index: 60, Review: susah hikks\n",
      "Index: 72, Review: merugikan\n",
      "Index: 133, Review: bagus\n",
      "Index: 191, Review: semoga dipermudahkan berjualan sinj\n",
      "Index: 198, Review: perbaiki bagus aplikasinya aplikasi penghasilan jualan produk aplikasi terima kasih\n",
      "Index: 205, Review: aplikasi ok\n",
      "Index: 217, Review: ya mudah mudahan akun bantu bejualan\n",
      "Index: 246, Review: ausah lakunya kak\n",
      "Index: 337, Review: daftar bisaãâ\n",
      "Index: 442, Review: ongkirnya mahal tokped ãåâåãåââãåâåãåââãåâåãåââ\n",
      "Index: 492, Review: gooooookd\n",
      "Index: 494, Review: belibet katagori tolong berguna terima kasih\n",
      "Index: 512, Review: suka\n",
      "Index: 520, Review: masuk\n",
      "Index: 524, Review: sih tiktok shop lepas akunãåââž\n",
      "Index: 530, Review: bermanfaat\n",
      "Index: 603, Review: masuk\n",
      "\n",
      "False Negatives (Predicted Negative, Actual Positive):\n",
      "Total False Negatives: 21\n",
      "Index: 1, Review: bahasanya tolong ganti pakai bahasa indonesia sih pilihan ktp iya pakai paspor indonesia pakenya ktp paspor asli indonesia\n",
      "Index: 3, Review: aplikasi membantu penjualtp mohon jagan ya admin up produkãåââ\n",
      "Index: 22, Review: ãåëœâ\n",
      "Index: 23, Review: terima kasih umkm berpijak kaki ãåëœâãåëœâãåëœâ\n",
      "Index: 77, Review: aplikasi bagus bingung penjual promosi\n",
      "Index: 142, Review: dana caircair parah\n",
      "Index: 159, Review: pelayanan terbaik marketplace\n",
      "Index: 177, Review: bagusãåââãåëœå\n",
      "Index: 289, Review: aplikasi usaha\n",
      "Index: 331, Review: berfungsi god job\n",
      "Index: 377, Review: aplikasi sangan membawa perubahan masyarakat pelaku bisnis\n",
      "Index: 386, Review: ok gas\n",
      "Index: 423, Review: biar bintang\n",
      "Index: 429, Review: alhamdulillah berkat tiktok seler mencari nafkah anak istrimeskipun modal\n",
      "Index: 463, Review: pelanggaran ampun\n",
      "Index: 525, Review: ramaikan dagangan toko\n",
      "Index: 534, Review: aplikasi bagus jualan\n",
      "Index: 544, Review: sangar sangar sangarãëœâãååâ\n",
      "Index: 568, Review: management tiktok tolong dipertimbangkan kebijakan berat sebelah kebijakan seller buyer\n",
      "Index: 594, Review: biar bintang saksi\n",
      "Index: 598, Review: mudah simpel gampang dipelajari orang awamgaptek\n"
     ]
    }
   ],
   "source": [
    "# Identifikasi False Positives (FP) dan False Negatives (FN)\n",
    "false_positives = []\n",
    "false_negatives = []\n",
    "\n",
    "for i in range(len(all_predictions)):\n",
    "    if all_predictions[i] == 1 and all_targets[i] == 0:\n",
    "        false_positives.append((i, test_df.iloc[i]['review']))\n",
    "    elif all_predictions[i] == 0 and all_targets[i] == 1:\n",
    "        false_negatives.append((i, test_df.iloc[i]['review']))\n",
    "\n",
    "# Menampilkan False Positives\n",
    "print(\"\\nFalse Positives (Predicted Positive, Actual Negative):\")\n",
    "print(f\"Total False Positives: {len(false_positives)}\")\n",
    "for idx, review in false_positives:\n",
    "    print(f\"Index: {idx}, Review: {review}\")\n",
    "\n",
    "# Menampilkan False Negatives\n",
    "print(\"\\nFalse Negatives (Predicted Negative, Actual Positive):\")\n",
    "print(f\"Total False Negatives: {len(false_negatives)}\")\n",
    "for idx, review in false_negatives:\n",
    "    print(f\"Index: {idx}, Review: {review}\")\n"
   ]
  },
  {
   "cell_type": "code",
   "execution_count": null,
   "id": "f4b6f364-4a8a-4ec3-8db1-a127d833e8cc",
   "metadata": {},
   "outputs": [],
   "source": [
    "# Function to predict sentiment\n",
    "def predict_sentiment(review, tokenizer, model, max_len=128):\n",
    "    model.eval()\n",
    "    inputs = tokenizer.encode_plus(\n",
    "        review,\n",
    "        add_special_tokens=True,\n",
    "        max_length=max_len,\n",
    "        return_token_type_ids=False,\n",
    "        pad_to_max_length=True,\n",
    "        return_attention_mask=True,\n",
    "        return_tensors='pt',\n",
    "    )\n",
    "    \n",
    "    input_ids = inputs['input_ids'].to(device)\n",
    "    attention_mask = inputs['attention_mask'].to(device)\n",
    "    \n",
    "    with torch.no_grad():\n",
    "        outputs = model(input_ids=input_ids, attention_mask=attention_mask)\n",
    "        logits = outputs.logits\n",
    "    \n",
    "    prediction = torch.argmax(logits, dim=-1).cpu().numpy()[0]\n",
    "    return \"Positif\" if prediction == 1 else \"Negatif\""
   ]
  },
  {
   "cell_type": "code",
   "execution_count": null,
   "id": "76774c89-c99c-4ce8-bbed-440ea9bfc462",
   "metadata": {},
   "outputs": [],
   "source": [
    "# Test the prediction function\n",
    "example_reviews = [\n",
    "    \"upload produk hasil foto sendiri tapi kena pelanggaran\",\n",
    "    \"tampilannya mempermudah pengguna baru\"\n",
    "]\n",
    "\n",
    "for review in example_reviews:\n",
    "    sentiment = predict_sentiment(review, tokenizer, model)\n",
    "    print(f\"Review: {review} | Sentiment: {sentiment}\")"
   ]
  },
  {
   "cell_type": "code",
   "execution_count": null,
   "id": "1cd5f0fc-63f6-49d9-be0d-7c8740cef196",
   "metadata": {},
   "outputs": [],
   "source": [
    "# Simpan model\n",
    "model_dir = \"sentiment_model\"\n",
    "model.save_pretrained(model_dir)\n",
    "\n",
    "# Simpan tokenizer\n",
    "tokenizer_dir = \"sentiment_tokenizer\"\n",
    "tokenizer.save_pretrained(tokenizer_dir)"
   ]
  },
  {
   "cell_type": "code",
   "execution_count": null,
   "id": "492af325-4f99-47b2-9021-43f8193ee06b",
   "metadata": {},
   "outputs": [],
   "source": []
  }
 ],
 "metadata": {
  "kernelspec": {
   "display_name": "Python 3 (ipykernel)",
   "language": "python",
   "name": "python3"
  },
  "language_info": {
   "codemirror_mode": {
    "name": "ipython",
    "version": 3
   },
   "file_extension": ".py",
   "mimetype": "text/x-python",
   "name": "python",
   "nbconvert_exporter": "python",
   "pygments_lexer": "ipython3",
   "version": "3.12.3"
  }
 },
 "nbformat": 4,
 "nbformat_minor": 5
}
